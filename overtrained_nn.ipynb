{
 "cells": [
  {
   "cell_type": "code",
   "execution_count": 1,
   "id": "637cd5fa-6010-4dae-b8ad-dc2910a3d874",
   "metadata": {},
   "outputs": [],
   "source": [
    "import numpy as np\n",
    "import torch.nn as nn\n",
    "import torch.nn.functional as F\n",
    "import torch.optim as optim"
   ]
  },
  {
   "cell_type": "code",
   "execution_count": 2,
   "id": "13905298-1e04-40fe-8f8a-ae8d6bf8d51c",
   "metadata": {},
   "outputs": [],
   "source": [
    "\n",
    "class Net(nn.Module):\n",
    "    def __init__(self):\n",
    "        super().__init__()\n",
    "        self.conv1 = nn.Conv2d(3, 6, 5)\n",
    "        self.pool = nn.MaxPool2d(2, 2)\n",
    "        self.conv2 = nn.Conv2d(6, 16, 5)\n",
    "        self.fc1 = nn.Linear(16 * 5 * 5, 120)\n",
    "        self.fc2 = nn.Linear(120, 84)\n",
    "        self.fc3 = nn.Linear(84, 10)\n",
    "\n",
    "    def forward(self, x):\n",
    "        x = self.pool(F.relu(self.conv1(x)))\n",
    "        x = self.pool(F.relu(self.conv2(x)))\n",
    "        x = torch.flatten(x, 1) # flatten all dimensions except batch\n",
    "        x = F.relu(self.fc1(x))\n",
    "        x = F.relu(self.fc2(x))\n",
    "        x = self.fc3(x)\n",
    "        return x\n",
    "\n",
    "\n",
    "net = Net()"
   ]
  },
  {
   "cell_type": "code",
   "execution_count": 3,
   "id": "6ce6d2c0-5e9f-408a-8efb-66809a749cb8",
   "metadata": {},
   "outputs": [
    {
     "name": "stdout",
     "output_type": "stream",
     "text": [
      "Files already downloaded and verified\n",
      "Files already downloaded and verified\n"
     ]
    }
   ],
   "source": [
    "# https://pytorch.org/tutorials/beginner/blitz/cifar10_tutorial.html\n",
    "\n",
    "import torch\n",
    "import torchvision\n",
    "import torchvision.transforms as transforms\n",
    "\n",
    "transform = transforms.Compose(\n",
    "    [transforms.ToTensor(),\n",
    "     transforms.Normalize((0.5, 0.5, 0.5), (0.5, 0.5, 0.5))])\n",
    "\n",
    "batch_size = 4\n",
    "\n",
    "trainset = torchvision.datasets.CIFAR10(root='./data', train=True,\n",
    "                                        download=True, transform=transform)\n",
    "trainloader = torch.utils.data.DataLoader(trainset, batch_size=batch_size,\n",
    "                                          shuffle=True, num_workers=2)\n",
    "\n",
    "testset = torchvision.datasets.CIFAR10(root='./data', train=False,\n",
    "                                       download=True, transform=transform)\n",
    "testloader = torch.utils.data.DataLoader(testset, batch_size=batch_size,\n",
    "                                         shuffle=False, num_workers=2)\n",
    "\n",
    "classes = ('plane', 'car', 'bird', 'cat',\n",
    "           'deer', 'dog', 'frog', 'horse', 'ship', 'truck')"
   ]
  },
  {
   "cell_type": "code",
   "execution_count": 4,
   "id": "6de053ff-c4cf-4190-9d13-cc1ad41c7246",
   "metadata": {},
   "outputs": [],
   "source": [
    "criterion = nn.CrossEntropyLoss()\n",
    "optimizer = optim.SGD(net.parameters(), lr=0.001, momentum=0.9)"
   ]
  },
  {
   "cell_type": "code",
   "execution_count": 5,
   "id": "50591243-8f5e-4ce8-8b16-a2de337ae3e2",
   "metadata": {},
   "outputs": [],
   "source": [
    "train_losses = []\n",
    "val_losses = []"
   ]
  },
  {
   "cell_type": "code",
   "execution_count": 6,
   "id": "1945016e-1c37-495a-b5e4-4023232869dc",
   "metadata": {},
   "outputs": [
    {
     "name": "stdout",
     "output_type": "stream",
     "text": [
      "[1,  2000] loss: 2.177\n",
      "[1,  4000] loss: 1.834\n",
      "[1,  6000] loss: 1.657\n",
      "[1,  8000] loss: 1.567\n",
      "[1, 10000] loss: 1.542\n",
      "[1, 12000] loss: 1.498\n",
      "[1,  2000] val_loss: 1.421\n",
      "[2,  2000] loss: 1.431\n",
      "[2,  4000] loss: 1.419\n",
      "[2,  6000] loss: 1.368\n",
      "[2,  8000] loss: 1.347\n",
      "[2, 10000] loss: 1.324\n",
      "[2, 12000] loss: 1.297\n",
      "[2,  2000] val_loss: 1.277\n",
      "[3,  2000] loss: 1.252\n",
      "[3,  4000] loss: 1.237\n",
      "[3,  6000] loss: 1.232\n",
      "[3,  8000] loss: 1.199\n",
      "[3, 10000] loss: 1.212\n",
      "[3, 12000] loss: 1.192\n",
      "[3,  2000] val_loss: 1.220\n",
      "[4,  2000] loss: 1.129\n",
      "[4,  4000] loss: 1.123\n",
      "[4,  6000] loss: 1.120\n",
      "[4,  8000] loss: 1.118\n",
      "[4, 10000] loss: 1.113\n",
      "[4, 12000] loss: 1.121\n",
      "[4,  2000] val_loss: 1.121\n",
      "[5,  2000] loss: 1.028\n",
      "[5,  4000] loss: 1.063\n",
      "[5,  6000] loss: 1.050\n",
      "[5,  8000] loss: 1.074\n",
      "[5, 10000] loss: 1.040\n",
      "[5, 12000] loss: 1.069\n",
      "[5,  2000] val_loss: 1.136\n",
      "[6,  2000] loss: 0.964\n",
      "[6,  4000] loss: 0.979\n",
      "[6,  6000] loss: 1.011\n",
      "[6,  8000] loss: 1.001\n",
      "[6, 10000] loss: 1.004\n",
      "[6, 12000] loss: 1.031\n",
      "[6,  2000] val_loss: 1.125\n",
      "[7,  2000] loss: 0.911\n",
      "[7,  4000] loss: 0.944\n",
      "[7,  6000] loss: 0.931\n",
      "[7,  8000] loss: 0.968\n",
      "[7, 10000] loss: 0.967\n",
      "[7, 12000] loss: 0.977\n",
      "[7,  2000] val_loss: 1.085\n",
      "[8,  2000] loss: 0.857\n",
      "[8,  4000] loss: 0.898\n",
      "[8,  6000] loss: 0.922\n",
      "[8,  8000] loss: 0.927\n",
      "[8, 10000] loss: 0.939\n",
      "[8, 12000] loss: 0.928\n",
      "[8,  2000] val_loss: 1.079\n",
      "[9,  2000] loss: 0.825\n",
      "[9,  4000] loss: 0.855\n",
      "[9,  6000] loss: 0.862\n",
      "[9,  8000] loss: 0.882\n",
      "[9, 10000] loss: 0.911\n",
      "[9, 12000] loss: 0.914\n",
      "[9,  2000] val_loss: 1.091\n",
      "[10,  2000] loss: 0.779\n",
      "[10,  4000] loss: 0.823\n",
      "[10,  6000] loss: 0.827\n",
      "[10,  8000] loss: 0.842\n",
      "[10, 10000] loss: 0.884\n",
      "[10, 12000] loss: 0.895\n",
      "[10,  2000] val_loss: 1.162\n",
      "[11,  2000] loss: 0.760\n",
      "[11,  4000] loss: 0.797\n",
      "[11,  6000] loss: 0.815\n",
      "[11,  8000] loss: 0.822\n",
      "[11, 10000] loss: 0.839\n",
      "[11, 12000] loss: 0.871\n",
      "[11,  2000] val_loss: 1.149\n",
      "[12,  2000] loss: 0.749\n",
      "[12,  4000] loss: 0.769\n",
      "[12,  6000] loss: 0.777\n",
      "[12,  8000] loss: 0.799\n",
      "[12, 10000] loss: 0.805\n",
      "[12, 12000] loss: 0.844\n",
      "[12,  2000] val_loss: 1.259\n",
      "[13,  2000] loss: 0.700\n",
      "[13,  4000] loss: 0.732\n",
      "[13,  6000] loss: 0.787\n",
      "[13,  8000] loss: 0.790\n",
      "[13, 10000] loss: 0.796\n",
      "[13, 12000] loss: 0.815\n",
      "[13,  2000] val_loss: 1.200\n",
      "[14,  2000] loss: 0.673\n",
      "[14,  4000] loss: 0.732\n",
      "[14,  6000] loss: 0.784\n",
      "[14,  8000] loss: 0.779\n",
      "[14, 10000] loss: 0.788\n",
      "[14, 12000] loss: 0.772\n",
      "[14,  2000] val_loss: 1.238\n",
      "[15,  2000] loss: 0.671\n",
      "[15,  4000] loss: 0.710\n",
      "[15,  6000] loss: 0.751\n",
      "[15,  8000] loss: 0.742\n",
      "[15, 10000] loss: 0.784\n",
      "[15, 12000] loss: 0.789\n",
      "[15,  2000] val_loss: 1.195\n",
      "Finished Training\n"
     ]
    }
   ],
   "source": [
    "for epoch in range(15):  # loop over the dataset multiple times\n",
    "\n",
    "    running_loss = 0.0\n",
    "    for i, data in enumerate(trainloader, 0):\n",
    "        # get the inputs; data is a list of [inputs, labels]\n",
    "        inputs, labels = data\n",
    "\n",
    "        # zero the parameter gradients\n",
    "        optimizer.zero_grad()\n",
    "\n",
    "        # forward + backward + optimize\n",
    "        outputs = net(inputs)\n",
    "        loss = criterion(outputs, labels)\n",
    "        loss.backward()\n",
    "        optimizer.step()\n",
    "\n",
    "        # print statistics\n",
    "        running_loss += loss.item()\n",
    "        if i % 2000 == 1999:    # print every 2000 mini-batches\n",
    "            print(f'[{epoch + 1}, {i + 1:5d}] loss: {running_loss / 2000:.3f}')\n",
    "            train_losses.append(running_loss)\n",
    "            running_loss = 0.0\n",
    "            \n",
    "    val_running_loss = 0.0\n",
    "    for i, data in enumerate(testloader,0):\n",
    "        inputs, labels = data\n",
    "        outputs = net(inputs)\n",
    "        val_loss = criterion(outputs, labels)\n",
    "        val_running_loss += val_loss.item()\n",
    "        if i % 2000 == 1999:    # print every 2000 mini-batches\n",
    "            print(f'[{epoch + 1}, {i + 1:5d}] val_loss: {val_running_loss / 2000:.3f}')\n",
    "            val_losses.append(val_running_loss)\n",
    "            val_running_loss = 0.0\n",
    "        \n",
    "\n",
    "print('Finished Training')"
   ]
  },
  {
   "cell_type": "code",
   "execution_count": 9,
   "id": "e43b2eba-5d40-4242-bfed-03ebe3f75f30",
   "metadata": {},
   "outputs": [
    {
     "name": "stdout",
     "output_type": "stream",
     "text": [
      "1.4210288652926684\n"
     ]
    }
   ],
   "source": [
    "val_losses = [l/2000.0 for l in val_losses]\n",
    "print(val_losses[0])"
   ]
  },
  {
   "cell_type": "code",
   "execution_count": 15,
   "id": "41d977c9-e92a-476a-b7ef-c8f2a8702881",
   "metadata": {},
   "outputs": [
    {
     "name": "stdout",
     "output_type": "stream",
     "text": [
      "15\n"
     ]
    }
   ],
   "source": [
    "print(len(val_losses))\n",
    "val_x = list(range(len(val_losses)))\n",
    "val_x = [x*6 for x in val_x]"
   ]
  },
  {
   "cell_type": "code",
   "execution_count": 16,
   "id": "195e4996-3c4c-4b7a-b5a6-35c2a53c116a",
   "metadata": {},
   "outputs": [],
   "source": [
    "train_losses = [l/2000.0 for l in train_losses]\n",
    "train_x = list(range(len(train_losses)))"
   ]
  },
  {
   "cell_type": "code",
   "execution_count": 21,
   "id": "c12a19eb-05c6-44aa-a6ea-3e7136208216",
   "metadata": {},
   "outputs": [
    {
     "name": "stdout",
     "output_type": "stream",
     "text": [
      "0\n"
     ]
    }
   ],
   "source": [
    "print(train_x[0])"
   ]
  },
  {
   "cell_type": "code",
   "execution_count": 17,
   "id": "9d0b133e-052c-45c5-868d-e4d1c46e63c2",
   "metadata": {},
   "outputs": [
    {
     "name": "stdout",
     "output_type": "stream",
     "text": [
      "[0, 6, 12, 18, 24, 30, 36, 42, 48, 54, 60, 66, 72, 78, 84]\n",
      "[0, 1, 2, 3, 4, 5, 6, 7, 8, 9, 10, 11, 12, 13, 14, 15, 16, 17, 18, 19, 20, 21, 22, 23, 24, 25, 26, 27, 28, 29, 30, 31, 32, 33, 34, 35, 36, 37, 38, 39, 40, 41, 42, 43, 44, 45, 46, 47, 48, 49, 50, 51, 52, 53, 54, 55, 56, 57, 58, 59, 60, 61, 62, 63, 64, 65, 66, 67, 68, 69, 70, 71, 72, 73, 74, 75, 76, 77, 78, 79, 80, 81, 82, 83, 84, 85, 86, 87, 88, 89]\n"
     ]
    }
   ],
   "source": [
    "print(val_x)\n",
    "print(train_x)"
   ]
  },
  {
   "cell_type": "code",
   "execution_count": 20,
   "id": "79fe847d-7213-4f37-82f2-a5e112ba6ae1",
   "metadata": {},
   "outputs": [
    {
     "data": {
      "image/png": "[encoded data removed]",
      "text/plain": [
       "<Figure size 640x480 with 1 Axes>"
      ]
     },
     "metadata": {},
     "output_type": "display_data"
    }
   ],
   "source": [
    "import matplotlib.pyplot as plt\n",
    "fig, ax = plt.subplots()\n",
    "\n",
    "plt.plot(train_x, train_losses, label='train')\n",
    "plt.plot(val_x, val_losses, color='r', alpha=0.5, label='val')\n",
    "plt.legend()\n",
    "\n",
    "ax.set_ylabel('batch')\n",
    "ax.set_xlabel('loss')\n",
    "ax.set_title(f'Losses')\n",
    "\n",
    "plt.show()"
   ]
  },
  {
   "cell_type": "code",
   "execution_count": 32,
   "id": "fc9397a1-99bc-431d-ba06-997aba6a79df",
   "metadata": {},
   "outputs": [
    {
     "name": "stdout",
     "output_type": "stream",
     "text": [
      "Accuracy of the network on the 10000 test images: 62 %\n"
     ]
    }
   ],
   "source": [
    "testloader = torch.utils.data.DataLoader(testset, batch_size=1,\n",
    "                                         shuffle=False, num_workers=2)\n",
    "\n",
    "correct = 0\n",
    "total = 0\n",
    "x_confs = []\n",
    "y_label = []\n",
    "y_predicted = []\n",
    "# since we're not training, we don't need to calculate the gradients for our outputs\n",
    "with torch.no_grad():\n",
    "    for data in testloader:\n",
    "        images, labels = data\n",
    "        # calculate outputs by running images through the network\n",
    "        outputs = net(images)\n",
    "        # print(outputs.data.shape)\n",
    "        # the class with the highest energy is what we choose as prediction\n",
    "        soft_max = F.softmax(outputs.data, 1)\n",
    "        conf, predicted = torch.max(soft_max.data, 1)\n",
    "        #print(predicted)\n",
    "        y_label.append(labels.detach().numpy())\n",
    "        y_predicted.append(predicted.detach().numpy())\n",
    "        x_confs.append(conf.detach().numpy())\n",
    "        total += labels.size(0)\n",
    "        correct += (predicted == labels).sum().item()\n",
    "\n",
    "print(f'Accuracy of the network on the 10000 test images: {100 * correct // total} %')"
   ]
  },
  {
   "cell_type": "code",
   "execution_count": 37,
   "id": "daedc430-ab81-4652-8538-f59b68385185",
   "metadata": {},
   "outputs": [
    {
     "name": "stdout",
     "output_type": "stream",
     "text": [
      "(10000, 1)\n",
      "(10000, 1)\n",
      "(10000, 1)\n"
     ]
    }
   ],
   "source": [
    "x_confs = np.stack(x_confs)\n",
    "print(x_confs.shape)\n",
    "y_label = np.stack(y_label)\n",
    "print(y_label.shape)\n",
    "y_predicted = np.stack(y_predicted)\n",
    "print(y_predicted.shape)\n",
    "\n",
    "x_confs = torch.from_numpy(x_confs)\n",
    "y_label = torch.from_numpy(y_label)\n",
    "y_predicted = torch.from_numpy(y_predicted)"
   ]
  },
  {
   "cell_type": "code",
   "execution_count": 41,
   "id": "846c98cf-628c-46b9-9ccc-4ffb5dfe595e",
   "metadata": {},
   "outputs": [
    {
     "name": "stdout",
     "output_type": "stream",
     "text": [
      "tensor([True])\n",
      "tensor(6241)\n"
     ]
    }
   ],
   "source": [
    "accs = y_predicted == y_label\n",
    "print(accs[0])\n",
    "print(torch.sum(accs))"
   ]
  },
  {
   "cell_type": "code",
   "execution_count": 38,
   "id": "2c7fed52-2f7a-40a7-92fe-d01640c8628c",
   "metadata": {},
   "outputs": [],
   "source": [
    "n_bins = 10\n",
    "bin_boundaries = torch.linspace(0, 1, n_bins + 1)\n",
    "bin_lowers = bin_boundaries[:-1]\n",
    "bin_uppers = bin_boundaries[1:]"
   ]
  },
  {
   "cell_type": "code",
   "execution_count": 45,
   "id": "4d5f5264-ad10-4dd0-a34c-b107ed5d6875",
   "metadata": {},
   "outputs": [],
   "source": [
    "bin_label = (bin_lowers + bin_uppers) / 2\n",
    "bin_label = bin_label.detach().numpy()"
   ]
  },
  {
   "cell_type": "code",
   "execution_count": 46,
   "id": "b3b6bba3-c3cd-4459-b511-ec4a45acfa57",
   "metadata": {},
   "outputs": [
    {
     "name": "stdout",
     "output_type": "stream",
     "text": [
      "[0.05       0.15       0.25       0.35000002 0.45       0.55\n",
      " 0.65       0.75       0.85       0.95      ]\n"
     ]
    }
   ],
   "source": [
    "print(bin_label)"
   ]
  },
  {
   "cell_type": "code",
   "execution_count": 49,
   "id": "1e379d9e-56e4-4b25-8ba7-cd863edee33c",
   "metadata": {},
   "outputs": [],
   "source": [
    "bin_accs = []\n",
    "bin_confs = []"
   ]
  },
  {
   "cell_type": "code",
   "execution_count": 54,
   "id": "0c20ecde-f264-4243-a633-f7e71490fd6f",
   "metadata": {},
   "outputs": [
    {
     "name": "stdout",
     "output_type": "stream",
     "text": [
      "tensor(0.)\n",
      "tensor(0.0022)\n",
      "tensor(0.0347)\n",
      "tensor(0.0782)\n",
      "tensor(0.1024)\n",
      "tensor(0.1148)\n",
      "tensor(0.0990)\n",
      "tensor(0.0985)\n",
      "tensor(0.1093)\n",
      "tensor(0.3609)\n"
     ]
    }
   ],
   "source": [
    "ece = 0.0\n",
    "for bin_lower, bin_upper in zip(bin_lowers, bin_uppers):\n",
    "    in_bin = x_confs.gt(bin_lower.item()) * x_confs.le(bin_upper.item())\n",
    "    proportion_in_bin = in_bin.float().mean()\n",
    "    print(proportion_in_bin)\n",
    "    if proportion_in_bin.item() > 0:\n",
    "        acc_in_bin = accs[in_bin].float().mean()\n",
    "        avg_conf_in_bin = x_confs[in_bin].float().mean()\n",
    "        bin_accs.append(acc_in_bin)\n",
    "        bin_confs.append(avg_conf_in_bin)\n",
    "        ece += torch.abs(avg_conf_in_bin - acc_in_bin)*proportion_in_bin\n",
    "       \n",
    "        "
   ]
  },
  {
   "cell_type": "code",
   "execution_count": 52,
   "id": "9da4a99e-f5b1-4a36-bf4d-e2a8139fca0d",
   "metadata": {},
   "outputs": [
    {
     "data": {
      "image/png": "[encoded data removed]",
      "text/plain": [
       "<Figure size 640x480 with 1 Axes>"
      ]
     },
     "metadata": {},
     "output_type": "display_data"
    }
   ],
   "source": [
    "fig, ax = plt.subplots()\n",
    "\n",
    "plt.plot(bin_confs, bin_accs, label='reliability diagram')\n",
    "plt.legend()\n",
    "\n",
    "ax.set_ylabel('batch')\n",
    "ax.set_xlabel('loss')\n",
    "ax.set_title(f'Reliability Diagram')\n",
    "\n",
    "plt.show()"
   ]
  },
  {
   "cell_type": "code",
   "execution_count": null,
   "id": "c528a6b4-cba1-4b20-a071-796ffa770504",
   "metadata": {},
   "outputs": [],
   "source": []
  }
 ],
 "metadata": {
  "kernelspec": {
   "display_name": "Python 3 (ipykernel)",
   "language": "python",
   "name": "python3"
  },
  "language_info": {
   "codemirror_mode": {
    "name": "ipython",
    "version": 3
   },
   "file_extension": ".py",
   "mimetype": "text/x-python",
   "name": "python",
   "nbconvert_exporter": "python",
   "pygments_lexer": "ipython3",
   "version": "3.10.13"
  }
 },
 "nbformat": 4,
 "nbformat_minor": 5
}
