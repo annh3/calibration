{
 "cells": [
  {
   "cell_type": "code",
   "execution_count": 1,
   "id": "950b9b9a-ea8a-43c4-aef4-bce0b351011c",
   "metadata": {},
   "outputs": [],
   "source": [
    "# imports\n",
    "import numpy as np\n",
    "\n",
    "# https://arxiv.org/pdf/1706.04599"
   ]
  },
  {
   "cell_type": "markdown",
   "id": "34a7adcb-361a-4e94-99f9-c2db04d834c8",
   "metadata": {},
   "source": [
    "### What is the point of calibration?\n",
    "\n",
    "* Ensure that predicted probalitilies match real world outcomes\n",
    "* I.e. if a nn cannot confidently predict 1 or 0 for obstructions, the car sensor should rely more on the output of other sensors for braking\n",
    "\n",
    "#### Definitions\n",
    "\n",
    "Define **perfect calibration** as $ P(\\hat{y} = y | \\hat{p} = p) = p  $ \n",
    "\n",
    "The calibration $\\hat{p}=p$ cannot be computed with finitely many samples since $\\hat{p}$ is a continuous random variable.\n",
    "\n",
    "If we have **perfect calibration** then a **reliability diagram** which plots the confidence $\\hat{p}$ on the x axis and the accuracy $P(\\hat{y} = y | \\hat{p} = p)$ on the left should plot the identity function, a diagonal line, $y=x$.\n",
    "\n",
    "To compute a **reliability diagram**, we bin samples based on their confidence, and calculate the accuracy of each bin, given that we also have $[0,1]$ labels."
   ]
  },
  {
   "cell_type": "code",
   "execution_count": 2,
   "id": "b65973ff-ba8a-43f4-8e54-b699b0020012",
   "metadata": {},
   "outputs": [],
   "source": [
    "\"\"\"\n",
    "generate n x 3 data where \n",
    "\n",
    "col_1 is the calibration p, can generate uniformly between (0,1)\n",
    "col_2 is the label y\n",
    "col_3 is the predicted label y, so flip col_2 w.p. 1-p\n",
    "\n",
    "How can we do a bit flip in python?\n",
    "\n",
    "0 --> 1: 0 + 1 mod 2\n",
    "1 --> 0: 1 + 1 mod 2\n",
    "\n",
    "so generate the second operand as a binomial w.p. 1-p\n",
    "\"\"\"\n",
    "\n",
    "import random\n",
    "\n",
    "N = 100\n",
    "\n",
    "\n",
    "def binomialvariate(n,p):\n",
    "    return sum(random.random() < p for i in range(n))\n",
    "\n",
    "col_1 = [random.uniform(0,1) for _ in range(N)]\n",
    "y = [random.randint(0,1) for _ in range(N)]\n",
    "coin_flip = [binomialvariate(n=1,p=1-proba) for proba in col_1]\n",
    "\n",
    "y_hat = [(x + y)% 2 for x,y in zip(y,coin_flip)]\n",
    "\n",
    "data_array = np.array([col_1, y, y_hat])\n",
    "data_array = data_array.T"
   ]
  },
  {
   "cell_type": "code",
   "execution_count": 3,
   "id": "534ed2d9-2efd-4f4c-991f-cb8c4979fcc2",
   "metadata": {},
   "outputs": [],
   "source": [
    "# create M = 10 bins for [0,1] interval?\n",
    "# create list(range(11)) = [0,1,...,9] = buckets \n",
    "# each data point is >= lower_bound and < upper_bound\n",
    "\n",
    "# so if data point is in bucket[i] then data_point >= bucket_[i] and < bucket_[i+1]\n",
    "# min bucket[i] where data_point is greater than bucket[i]"
   ]
  },
  {
   "cell_type": "code",
   "execution_count": 4,
   "id": "48b2b2f2-4162-4404-8aaa-9bcafcdb3575",
   "metadata": {},
   "outputs": [],
   "source": [
    "# sort by col_1, the confidence\n",
    "\n",
    "# col_1 looks like [0.22, ..., 0.44]\n",
    "# multiply by 10 then round down\n",
    "# bucket_assignment = math.floor(item * 10)\n",
    "import math\n",
    "\n",
    "bins = [math.floor(item*10) for item in col_1]\n",
    "# print(bins)\n",
    "\n",
    "bins = np.array(bins)\n",
    "\n",
    "idxs = np.argwhere(bins==9)\n",
    "\n",
    "# col_1, y, y_hat\n",
    "# data_array ....\n",
    "\n",
    "accs = []\n",
    "\n",
    "for bin in range(10):\n",
    "    idxs = np.argwhere(bins==bin)\n",
    "    # index into y, y_hat to calculate per bin accuracies\n",
    "    y_bucket = data_array[idxs,1]\n",
    "    y_hat_bucket = data_array[idxs,2]\n",
    "\n",
    "    equals = y_bucket == y_hat_bucket\n",
    "    acc = np.mean(equals)\n",
    "    accs.append(acc)"
   ]
  },
  {
   "cell_type": "code",
   "execution_count": 5,
   "id": "45d84982-4d5f-4dd7-ba63-9b76781df662",
   "metadata": {},
   "outputs": [
    {
     "name": "stdout",
     "output_type": "stream",
     "text": [
      "[0.16666666666666666, 0.125, 0.09090909090909091, 0.2, 0.5833333333333334, 0.5384615384615384, 0.5, 0.8461538461538461, 0.7777777777777778, 1.0]\n"
     ]
    }
   ],
   "source": [
    "print(accs)"
   ]
  },
  {
   "cell_type": "code",
   "execution_count": 6,
   "id": "61eb94d5-b05f-4405-9096-d52e143e6f6b",
   "metadata": {},
   "outputs": [],
   "source": [
    "buckets = list(range(10))"
   ]
  },
  {
   "cell_type": "code",
   "execution_count": 7,
   "id": "d535e903-24a1-421b-a1df-91894cecd367",
   "metadata": {},
   "outputs": [
    {
     "data": {
      "image/png": "[encoded data removed]",
      "text/plain": [
       "<Figure size 640x480 with 1 Axes>"
      ]
     },
     "metadata": {},
     "output_type": "display_data"
    }
   ],
   "source": [
    "import matplotlib.pyplot as plt\n",
    "\n",
    "fig, ax = plt.subplots()\n",
    "\n",
    "ax.bar(buckets, accs, label=buckets)\n",
    "ax.set_ylabel('acc')\n",
    "ax.set_xlabel('confidence')\n",
    "ax.set_title('reliability diagram')\n",
    "\n",
    "plt.show()"
   ]
  },
  {
   "cell_type": "markdown",
   "id": "34310aee-eb42-453f-bc0c-c3c2bd550cff",
   "metadata": {},
   "source": [
    "### Expected Calibration Error (ECE)\n",
    "\n",
    "Prefer to have a scalar over a diagram\n",
    "\n",
    "$ECE = \\mathbb{E}_{\\hat{p}} [\\lvert P(\\hat{y} = y | \\hat{p} - p\\rvert] = \\sum_{m=1}^M \\frac{\\lvert B_m \\rvert}{n} \\vert acc(B_m) - conf(B_m) \\vert $"
   ]
  },
  {
   "cell_type": "code",
   "execution_count": 8,
   "id": "7a21fea2-2a5c-42a4-ae87-73c1f1cabec4",
   "metadata": {},
   "outputs": [
    {
     "name": "stdout",
     "output_type": "stream",
     "text": [
      "0.09872878390324835\n"
     ]
    }
   ],
   "source": [
    "# col_conf, y, y_hat\n",
    "# data_array ....\n",
    "\n",
    "ece = 0\n",
    "\n",
    "for bin in range(10):\n",
    "    idxs = np.argwhere(bins==bin)\n",
    "    # index into y, y_hat to calculate per bin accuracies\n",
    "    y_bucket = data_array[idxs,1]\n",
    "    y_hat_bucket = data_array[idxs,2]\n",
    "\n",
    "    equals = y_bucket == y_hat_bucket\n",
    "    acc = np.mean(equals)\n",
    "    bucket_size = len(idxs)\n",
    "    conf = np.mean(data_array[idxs,0])\n",
    "    ece += float(bucket_size/N) * abs(acc-conf)\n",
    "\n",
    "print(ece)"
   ]
  },
  {
   "cell_type": "markdown",
   "id": "b1c86ab9-4460-4cbf-940b-6c01f669eb9c",
   "metadata": {},
   "source": [
    "### What are some other ways to calibrate?\n",
    "\n",
    "NLL, i.e. cross entropy loss, $ - \\sum_{p(x)} \\log q(x) $ , (Bengio et al 2015). According to (Friedman et al 2001), NLL is minimized iff $\\hat{\\pi}(y \\vert x)$ recovers the ground truth conidtional distribution $\\pi(y \\vert x)$.\n",
    "\n",
    "In practice, NLL, diverges from accuracy (Zhang et al 2017) so it is not a great calibration method in practice. "
   ]
  },
  {
   "cell_type": "markdown",
   "id": "f85105c0-cd71-4f2a-9cdf-0f60020dc441",
   "metadata": {},
   "source": [
    "### Platt Scaling and generalization to MultiClass Problems\n",
    "\n",
    "What is **Platt scaling** (Platt et al, 1999)?\n",
    "# https://home.cs.colorado.edu/~mozer/Teaching/syllabi/6622/papers/Platt1999.pdf\n",
    "\n",
    "* A parametric approach to calibration\n",
    "* The non-probabilistic predictions of a classifier are used as features for a logistic regression model, which is trained on the validation set to return probabilities\n",
    "* I.e., learn $\\hat{q_i} = \\sigma(a z_i + b)$ as the calibrated probability using NLL over the validation set, while the NN parameters are fixed\n",
    "\n",
    "### Matrix and vector scaling\n",
    "\n",
    "* two multi-class extensions of Platt scaling. Apply linear transformation before the softmax\n",
    "* $\\hat{q_i} = max_k \\sigma_{SM}(W z_i + b)$\n",
    "* $\\hat{y_i'} = argmax_k \\sigma_{SM}(W z_i + b)$\n",
    "\n",
    "* The parameters $W$ and $b$ are optimized wrt to NLL on the validation set."
   ]
  },
  {
   "cell_type": "code",
   "execution_count": 9,
   "id": "f80aa58c-4dd4-4028-9e8a-6348a17a6bfe",
   "metadata": {},
   "outputs": [
    {
     "name": "stdout",
     "output_type": "stream",
     "text": [
      "Files already downloaded and verified\n",
      "Files already downloaded and verified\n"
     ]
    }
   ],
   "source": [
    "# https://pytorch.org/tutorials/beginner/blitz/cifar10_tutorial.html\n",
    "\n",
    "import torch\n",
    "import torchvision\n",
    "import torchvision.transforms as transforms\n",
    "\n",
    "transform = transforms.Compose(\n",
    "    [transforms.ToTensor(),\n",
    "     transforms.Normalize((0.5, 0.5, 0.5), (0.5, 0.5, 0.5))])\n",
    "\n",
    "batch_size = 4\n",
    "\n",
    "trainset = torchvision.datasets.CIFAR10(root='./data', train=True,\n",
    "                                        download=True, transform=transform)\n",
    "trainloader = torch.utils.data.DataLoader(trainset, batch_size=batch_size,\n",
    "                                          shuffle=True, num_workers=2)\n",
    "\n",
    "testset = torchvision.datasets.CIFAR10(root='./data', train=False,\n",
    "                                       download=True, transform=transform)\n",
    "testloader = torch.utils.data.DataLoader(testset, batch_size=batch_size,\n",
    "                                         shuffle=False, num_workers=2)\n",
    "\n",
    "classes = ('plane', 'car', 'bird', 'cat',\n",
    "           'deer', 'dog', 'frog', 'horse', 'ship', 'truck')"
   ]
  },
  {
   "cell_type": "code",
   "execution_count": 10,
   "id": "7e1413f6-b7cd-463b-badc-c1d21d43ba5f",
   "metadata": {},
   "outputs": [
    {
     "name": "stdout",
     "output_type": "stream",
     "text": [
      "Files already downloaded and verified\n"
     ]
    }
   ],
   "source": [
    "testset = torchvision.datasets.CIFAR10(root='./data', train=False,\n",
    "                                       download=True, transform=transform)"
   ]
  },
  {
   "cell_type": "code",
   "execution_count": 11,
   "id": "b1a2ede0-df65-4045-9377-a1fdcfb61ee5",
   "metadata": {},
   "outputs": [
    {
     "name": "stdout",
     "output_type": "stream",
     "text": [
      "<class 'tuple'>\n",
      "10000\n",
      "(tensor([[[ 0.2392,  0.2471,  0.2941,  ...,  0.0745, -0.0118, -0.0902],\n",
      "         [ 0.1922,  0.1843,  0.2471,  ...,  0.0667, -0.0196, -0.0667],\n",
      "         [ 0.1843,  0.1843,  0.2392,  ...,  0.0902,  0.0196, -0.0588],\n",
      "         ...,\n",
      "         [-0.4667, -0.6706, -0.7569,  ..., -0.7020, -0.8980, -0.6863],\n",
      "         [-0.5216, -0.6157, -0.7255,  ..., -0.7961, -0.7725, -0.8431],\n",
      "         [-0.5765, -0.5608, -0.6471,  ..., -0.8118, -0.7333, -0.8353]],\n",
      "\n",
      "        [[-0.1216, -0.1294, -0.0902,  ..., -0.2549, -0.2863, -0.3333],\n",
      "         [-0.1216, -0.1373, -0.1059,  ..., -0.2549, -0.2863, -0.3098],\n",
      "         [-0.1373, -0.1451, -0.1294,  ..., -0.2314, -0.2549, -0.3020],\n",
      "         ...,\n",
      "         [-0.0275, -0.2157, -0.3098,  ..., -0.2392, -0.4980, -0.3333],\n",
      "         [-0.0902, -0.2000, -0.3333,  ..., -0.3569, -0.3569, -0.4980],\n",
      "         [-0.1608, -0.1765, -0.3020,  ..., -0.3961, -0.3412, -0.4745]],\n",
      "\n",
      "        [[-0.6157, -0.6314, -0.6000,  ..., -0.7176, -0.7176, -0.7412],\n",
      "         [-0.6000, -0.6863, -0.6471,  ..., -0.7569, -0.7490, -0.7333],\n",
      "         [-0.6314, -0.7412, -0.7176,  ..., -0.7333, -0.7333, -0.7412],\n",
      "         ...,\n",
      "         [ 0.3882,  0.1608,  0.0745,  ...,  0.1451, -0.1529, -0.0039],\n",
      "         [ 0.3176,  0.1608,  0.0353,  ...,  0.0196, -0.0118, -0.1608],\n",
      "         [ 0.2549,  0.1686,  0.0353,  ..., -0.0275,  0.0118, -0.1373]]]), 3)\n"
     ]
    }
   ],
   "source": [
    "print(type(testset[0]))\n",
    "print(len(testset))\n",
    "print(testset[0])"
   ]
  },
  {
   "cell_type": "code",
   "execution_count": 12,
   "id": "3e4be76e-4108-4627-8722-5b0ccca2185f",
   "metadata": {},
   "outputs": [
    {
     "data": {
      "image/png": "[encoded data removed]",
      "text/plain": [
       "<Figure size 640x480 with 1 Axes>"
      ]
     },
     "metadata": {},
     "output_type": "display_data"
    },
    {
     "name": "stdout",
     "output_type": "stream",
     "text": [
      "deer  bird  bird  ship \n"
     ]
    }
   ],
   "source": [
    "# functions to show an image\n",
    "\n",
    "\n",
    "def imshow(img):\n",
    "    img = img / 2 + 0.5     # unnormalize\n",
    "    npimg = img.numpy()\n",
    "    plt.imshow(np.transpose(npimg, (1, 2, 0)))\n",
    "    plt.show()\n",
    "\n",
    "\n",
    "# get some random training images\n",
    "dataiter = iter(trainloader)\n",
    "images, labels = next(dataiter)\n",
    "\n",
    "# show images\n",
    "imshow(torchvision.utils.make_grid(images))\n",
    "# print labels\n",
    "print(' '.join(f'{classes[labels[j]]:5s}' for j in range(batch_size)))"
   ]
  },
  {
   "cell_type": "markdown",
   "id": "8a8332bb-0bdf-4c22-9d86-58d4d37e6702",
   "metadata": {},
   "source": [
    "### Define a Convolutional Neural Network\n",
    "\n",
    "TODO(annhe): figure out how to calculate cnn inner layer dims"
   ]
  },
  {
   "cell_type": "code",
   "execution_count": 13,
   "id": "5c971bf3-c0c7-4bb7-a1c4-a81d07ebef93",
   "metadata": {},
   "outputs": [],
   "source": [
    "import torch.nn as nn\n",
    "import torch.nn.functional as F\n",
    "\n",
    "\n",
    "class Net(nn.Module):\n",
    "    def __init__(self):\n",
    "        super().__init__()\n",
    "        self.conv1 = nn.Conv2d(3, 6, 5)\n",
    "        self.pool = nn.MaxPool2d(2, 2)\n",
    "        self.conv2 = nn.Conv2d(6, 16, 5)\n",
    "        self.fc1 = nn.Linear(16 * 5 * 5, 120)\n",
    "        self.fc2 = nn.Linear(120, 84)\n",
    "        self.fc3 = nn.Linear(84, 10)\n",
    "\n",
    "    def forward(self, x):\n",
    "        x = self.pool(F.relu(self.conv1(x)))\n",
    "        x = self.pool(F.relu(self.conv2(x)))\n",
    "        x = torch.flatten(x, 1) # flatten all dimensions except batch\n",
    "        x = F.relu(self.fc1(x))\n",
    "        x = F.relu(self.fc2(x))\n",
    "        x = self.fc3(x)\n",
    "        return x\n",
    "\n",
    "\n",
    "net = Net()"
   ]
  },
  {
   "cell_type": "code",
   "execution_count": 14,
   "id": "3e35af43-a022-4d52-b9e7-85d73b7ef5a8",
   "metadata": {},
   "outputs": [],
   "source": [
    "import torch.optim as optim\n",
    "\n",
    "criterion = nn.CrossEntropyLoss()\n",
    "optimizer = optim.SGD(net.parameters(), lr=0.001, momentum=0.9)"
   ]
  },
  {
   "cell_type": "code",
   "execution_count": 15,
   "id": "b4d9865a-9db6-47d9-bc33-66d19f9bcf4a",
   "metadata": {},
   "outputs": [
    {
     "name": "stdout",
     "output_type": "stream",
     "text": [
      "[1,  2000] loss: 2.164\n",
      "[1,  4000] loss: 1.767\n",
      "[1,  6000] loss: 1.645\n",
      "[1,  8000] loss: 1.576\n",
      "[1, 10000] loss: 1.525\n",
      "[1, 12000] loss: 1.483\n",
      "[2,  2000] loss: 1.409\n",
      "[2,  4000] loss: 1.371\n",
      "[2,  6000] loss: 1.346\n",
      "[2,  8000] loss: 1.330\n",
      "[2, 10000] loss: 1.301\n",
      "[2, 12000] loss: 1.315\n",
      "[3,  2000] loss: 1.222\n",
      "[3,  4000] loss: 1.233\n",
      "[3,  6000] loss: 1.211\n",
      "[3,  8000] loss: 1.207\n",
      "[3, 10000] loss: 1.215\n",
      "[3, 12000] loss: 1.185\n",
      "[4,  2000] loss: 1.134\n",
      "[4,  4000] loss: 1.131\n",
      "[4,  6000] loss: 1.113\n",
      "[4,  8000] loss: 1.133\n",
      "[4, 10000] loss: 1.123\n",
      "[4, 12000] loss: 1.103\n",
      "Finished Training\n"
     ]
    }
   ],
   "source": [
    "for epoch in range(4):  # loop over the dataset multiple times\n",
    "\n",
    "    running_loss = 0.0\n",
    "    for i, data in enumerate(trainloader, 0):\n",
    "        # get the inputs; data is a list of [inputs, labels]\n",
    "        inputs, labels = data\n",
    "\n",
    "        # zero the parameter gradients\n",
    "        optimizer.zero_grad()\n",
    "\n",
    "        # forward + backward + optimize\n",
    "        outputs = net(inputs)\n",
    "        loss = criterion(outputs, labels)\n",
    "        loss.backward()\n",
    "        optimizer.step()\n",
    "\n",
    "        # print statistics\n",
    "        running_loss += loss.item()\n",
    "        if i % 2000 == 1999:    # print every 2000 mini-batches\n",
    "            print(f'[{epoch + 1}, {i + 1:5d}] loss: {running_loss / 2000:.3f}')\n",
    "            running_loss = 0.0\n",
    "\n",
    "print('Finished Training')"
   ]
  },
  {
   "cell_type": "code",
   "execution_count": 16,
   "id": "130290a4-51ff-4da3-be1b-47fd1afb34e6",
   "metadata": {},
   "outputs": [],
   "source": [
    "PATH = './cifar_net.pth'\n",
    "torch.save(net.state_dict(), PATH)"
   ]
  },
  {
   "cell_type": "code",
   "execution_count": 17,
   "id": "aff7d693-e1d8-42e4-8966-52f8e09f7117",
   "metadata": {},
   "outputs": [
    {
     "name": "stdout",
     "output_type": "stream",
     "text": [
      "Accuracy of the network on the 10000 test images: 59 %\n"
     ]
    }
   ],
   "source": [
    "correct = 0\n",
    "total = 0\n",
    "# since we're not training, we don't need to calculate the gradients for our outputs\n",
    "with torch.no_grad():\n",
    "    for data in testloader:\n",
    "        images, labels = data\n",
    "        # calculate outputs by running images through the network\n",
    "        outputs = net(images)\n",
    "        # print(outputs.data.shape)\n",
    "        # the class with the highest energy is what we choose as prediction\n",
    "        _, predicted = torch.max(outputs.data, 1)\n",
    "        total += labels.size(0)\n",
    "        correct += (predicted == labels).sum().item()\n",
    "\n",
    "print(f'Accuracy of the network on the 10000 test images: {100 * correct // total} %')"
   ]
  },
  {
   "cell_type": "code",
   "execution_count": 18,
   "id": "ef5490c9-67e5-4dc0-a82a-de7c1b8d5d3e",
   "metadata": {},
   "outputs": [],
   "source": [
    "# Freeze params of the CNN\n",
    "\n",
    "for param in net.parameters():\n",
    "    param.requires_grad = False"
   ]
  },
  {
   "cell_type": "code",
   "execution_count": 19,
   "id": "1a103f1f-dc5a-47fd-8537-54987b8cf861",
   "metadata": {},
   "outputs": [],
   "source": [
    "# define a new net, call it PlattNet\n",
    "\n",
    "class PlattNet(nn.Module):\n",
    "    def __init__(self):\n",
    "        super().__init__()\n",
    "        self.matrix = nn.Linear(10, 10)\n",
    "\n",
    "    def forward(self, x):\n",
    "        x = self.matrix(x)\n",
    "        x = F.softmax(x,dim=1)\n",
    "        return x\n",
    "\n",
    "plattnet = PlattNet()\n",
    "\n",
    "for param in plattnet.parameters():\n",
    "    param.requires_grad = True"
   ]
  },
  {
   "cell_type": "code",
   "execution_count": 20,
   "id": "6921e8f9-20e4-4bcf-aeff-1f70f3451191",
   "metadata": {},
   "outputs": [],
   "source": [
    "criterion = nn.CrossEntropyLoss()\n",
    "optimizer = optim.SGD(plattnet.parameters(), lr=0.001, momentum=0.9)"
   ]
  },
  {
   "cell_type": "code",
   "execution_count": 21,
   "id": "9be156a3-3cc9-4535-ae02-c6b475cd4205",
   "metadata": {},
   "outputs": [
    {
     "name": "stdout",
     "output_type": "stream",
     "text": [
      "[1,  2000] loss: 2.184\n",
      "[2,  2000] loss: 1.978\n",
      "[3,  2000] loss: 1.921\n",
      "[4,  2000] loss: 1.905\n",
      "[5,  2000] loss: 1.896\n",
      "[6,  2000] loss: 1.889\n",
      "[7,  2000] loss: 1.884\n",
      "[8,  2000] loss: 1.880\n",
      "[9,  2000] loss: 1.877\n",
      "[10,  2000] loss: 1.874\n",
      "Finished Calibration\n"
     ]
    }
   ],
   "source": [
    "for epoch in range(10):  # loop over the validation dataset multiple times\n",
    "\n",
    "    running_loss = 0.0\n",
    "    for i, data in enumerate(testloader, 0):\n",
    "        # get the inputs; data is a list of [inputs, labels]\n",
    "        inputs, labels = data\n",
    "\n",
    "        # zero the parameter gradients\n",
    "        optimizer.zero_grad()\n",
    "\n",
    "        # forward + backward + optimize\n",
    "        outputs = net(inputs)\n",
    "        outputs = plattnet(outputs)\n",
    "        loss = criterion(outputs, labels)\n",
    "        loss.backward()\n",
    "        optimizer.step()\n",
    "\n",
    "        # print statistics\n",
    "        running_loss += loss.item()\n",
    "        if i % 2000 == 1999:    # print every 2000 mini-batches\n",
    "            print(f'[{epoch + 1}, {i + 1:5d}] loss: {running_loss / 2000:.3f}')\n",
    "            running_loss = 0.0\n",
    "\n",
    "print('Finished Calibration')"
   ]
  },
  {
   "cell_type": "code",
   "execution_count": 22,
   "id": "8b0189ec-37e0-43ae-966e-f6a00d5a264d",
   "metadata": {},
   "outputs": [
    {
     "name": "stdout",
     "output_type": "stream",
     "text": [
      "torch.Size([3, 32, 32])\n"
     ]
    }
   ],
   "source": [
    "print(testset[0][0].shape)"
   ]
  },
  {
   "cell_type": "code",
   "execution_count": 23,
   "id": "bc9954da-87d2-45ad-aa65-aa7f7cfff42e",
   "metadata": {},
   "outputs": [],
   "source": [
    "testloader = torch.utils.data.DataLoader(testset, batch_size=1,\n",
    "                                         shuffle=False, num_workers=2)"
   ]
  },
  {
   "cell_type": "code",
   "execution_count": 24,
   "id": "0d17ecd0-d938-4d7c-a909-27b4f16a17de",
   "metadata": {},
   "outputs": [],
   "source": [
    "for param in plattnet.parameters():\n",
    "    param.requires_grad = False"
   ]
  },
  {
   "cell_type": "code",
   "execution_count": 25,
   "id": "bb817c9c-e363-4737-bf0e-b01017e7d93d",
   "metadata": {},
   "outputs": [],
   "source": [
    "histogram_x = []\n",
    "histogram_y = []"
   ]
  },
  {
   "cell_type": "code",
   "execution_count": 32,
   "id": "49b7a464-3839-4af2-af6e-c1fd6374c4fa",
   "metadata": {},
   "outputs": [
    {
     "name": "stdout",
     "output_type": "stream",
     "text": [
      "data point:  0\n",
      "data point:  1000\n",
      "data point:  2000\n",
      "data point:  3000\n",
      "data point:  4000\n",
      "data point:  5000\n",
      "data point:  6000\n",
      "data point:  7000\n",
      "data point:  8000\n",
      "data point:  9000\n",
      "Finished Collecting Calibrated Points\n"
     ]
    }
   ],
   "source": [
    "for epoch in range(1):  # loop over the validation dataset multiple times\n",
    "\n",
    "    running_loss = 0.0\n",
    "    for i, data in enumerate(testloader, 0):\n",
    "        # get the inputs; data is a list of [inputs, labels]\n",
    "        inputs, labels = data\n",
    "\n",
    "        # forward + backward + optimize\n",
    "        outputs = net(inputs)\n",
    "        outputs = plattnet(outputs)\n",
    "        outputs = outputs.detach().numpy()\n",
    "        labels = labels.detach().numpy()\n",
    "        histogram_x.append(outputs)\n",
    "        histogram_y.append(labels)\n",
    "        \n",
    "\n",
    "        if i % 1000 == 0: print(\"data point: \", i)\n",
    "\n",
    "print('Finished Collecting Calibrated Points')"
   ]
  },
  {
   "cell_type": "code",
   "execution_count": 27,
   "id": "1864f066-131b-43f0-ba1d-1e323eee7e4e",
   "metadata": {},
   "outputs": [
    {
     "name": "stdout",
     "output_type": "stream",
     "text": [
      "[1.4693351e-03 3.2905060e-05 2.2335697e-02 3.4881055e-01 5.6641754e-03\n",
      " 6.0621148e-01 1.3811648e-02 8.3522650e-04 7.7641394e-04 5.2567844e-05]\n"
     ]
    }
   ],
   "source": [
    "print(histogram_x[0][0])"
   ]
  },
  {
   "cell_type": "code",
   "execution_count": 28,
   "id": "38facf83-d10b-40e0-95a9-7c5006617972",
   "metadata": {},
   "outputs": [
    {
     "name": "stdout",
     "output_type": "stream",
     "text": [
      "0.6062115\n"
     ]
    }
   ],
   "source": [
    "res = np.max(histogram_x[0][0])\n",
    "print(res)"
   ]
  },
  {
   "cell_type": "code",
   "execution_count": 29,
   "id": "4d7233d8-379d-4e30-a2dd-1a0fd01b7fba",
   "metadata": {},
   "outputs": [
    {
     "name": "stdout",
     "output_type": "stream",
     "text": [
      "<class 'numpy.ndarray'>\n",
      "<class 'list'>\n",
      "<class 'numpy.ndarray'>\n",
      "<class 'numpy.ndarray'>\n",
      "[nan, 0.0, 0.10810810810810811, 0.20823798627002288, 0.3074866310160428, 0.3808139534883721, 0.4129979035639413, 0.48330058939096265, 0.5834068843777581, 0.8140770252324038]\n",
      "[0, 0.0, 0.10810810810810811, 0.20823798627002288, 0.3074866310160428, 0.3808139534883721, 0.4129979035639413, 0.48330058939096265, 0.5834068843777581, 0.8140770252324038]\n"
     ]
    },
    {
     "name": "stderr",
     "output_type": "stream",
     "text": [
      "/Users/annhe/anaconda3/envs/agency/lib/python3.10/site-packages/numpy/core/fromnumeric.py:3432: RuntimeWarning: Mean of empty slice.\n",
      "  return _methods._mean(a, axis=axis, dtype=dtype,\n",
      "/Users/annhe/anaconda3/envs/agency/lib/python3.10/site-packages/numpy/core/_methods.py:190: RuntimeWarning: invalid value encountered in double_scalars\n",
      "  ret = ret.dtype.type(ret / rcount)\n"
     ]
    },
    {
     "data": {
      "image/png": "[encoded data removed]",
      "text/plain": [
       "<Figure size 640x480 with 1 Axes>"
      ]
     },
     "metadata": {},
     "output_type": "display_data"
    }
   ],
   "source": [
    "predicted_confidence = [np.max(x[0]) for x in histogram_x]\n",
    "predicted_class = [np.argmax(x[0]) for x in histogram_x]\n",
    "y_gt_label = [x[0] for x in histogram_y]\n",
    "\n",
    "bins = [math.floor(item*10) for item in predicted_confidence]\n",
    "bins = np.array(bins)\n",
    "print(type(bins))\n",
    "print(type(predicted_class))\n",
    "predicted_class = np.array(predicted_class)\n",
    "print(type(predicted_class))\n",
    "y_gt_label = np.array(y_gt_label)\n",
    "print(type(y_gt_label))\n",
    "\n",
    "accs = []\n",
    "\n",
    "for bin in range(10):\n",
    "    idxs = np.argwhere(bins==bin)\n",
    "    # print(\"bin idxs: \", bin, idxs)\n",
    "    # index into y, y_hat to calculate per bin accuracies\n",
    "    y_preds = predicted_class[idxs]\n",
    "    y_gt = y_gt_label[idxs]\n",
    "\n",
    "    equals = y_preds == y_gt\n",
    "    acc = np.mean(equals)\n",
    "    accs.append(acc)\n",
    "\n",
    "print(accs)\n",
    "accs = [0 if math.isnan(x) else x for x in accs]\n",
    "print(accs)\n",
    "\n",
    "buckets = list(range(10))\n",
    "\n",
    "fig, ax = plt.subplots()\n",
    "\n",
    "ax.bar(buckets, accs, label=buckets)\n",
    "ax.set_ylabel('acc')\n",
    "ax.set_xlabel('confidence')\n",
    "ax.set_title('reliability diagram: Matrix Vector Scaling on CIFAR 10')\n",
    "\n",
    "plt.show()"
   ]
  },
  {
   "cell_type": "markdown",
   "id": "42010c43-91a7-4447-9348-b2ff0f46ba35",
   "metadata": {},
   "source": [
    "### Temperature Scaling\n",
    "\n",
    "* A single parameter $T > 0$\n",
    "* Given the logit vector $z_i$, the confidence prediction is $\\hat{q_i} = \\max_k \\sigma_{SM}(z_i/T)$"
   ]
  },
  {
   "cell_type": "code",
   "execution_count": 30,
   "id": "a387b4fa-6fa3-4219-b0df-419b3cc27b5a",
   "metadata": {},
   "outputs": [
    {
     "name": "stdout",
     "output_type": "stream",
     "text": [
      "Finished Collecting Calibrated Points\n"
     ]
    }
   ],
   "source": [
    "temperature_x = {}\n",
    "T_values = [1,2,50,100]\n",
    "for t_value in T_values:\n",
    "    temperature_x[t_value] = []\n",
    "\n",
    "for t_value in T_values:\n",
    "    for epoch in range(1):  # loop over the validation dataset multiple times\n",
    "\n",
    "        running_loss = 0.0\n",
    "        for i, data in enumerate(testloader, 0):\n",
    "            # get the inputs; data is a list of [inputs, labels]\n",
    "            inputs, labels = data\n",
    "\n",
    "            # forward + backward + optimize\n",
    "            outputs = net(inputs)\n",
    "            outputs /= t_value\n",
    "            # print(outputs.shape)\n",
    "            outputs = F.softmax(outputs,dim=1)\n",
    "            #outputs = plattnet(outputs)\n",
    "            outputs = outputs.detach().numpy()\n",
    "            #labels = labels.detach().numpy()\n",
    "            temperature_x[t_value].append(outputs)\n",
    "            #histogram_y.append(labels)\n",
    "        \n",
    "\n",
    "        if i % 100 == 0: print(\"data point: \", i)\n",
    "\n",
    "print('Finished Collecting Calibrated Points')"
   ]
  },
  {
   "cell_type": "code",
   "execution_count": 31,
   "id": "9a1e7fb3-5020-472d-b5e4-24ccd0318a1b",
   "metadata": {},
   "outputs": [
    {
     "name": "stdout",
     "output_type": "stream",
     "text": [
      "[nan, 0.18292682926829268, 0.2616136919315403, 0.3333333333333333, 0.4205801104972376, 0.5278900565885206, 0.5980304386750224, 0.7172619047619048, 0.8205607476635514, 0.9259868421052632]\n",
      "[0, 0.18292682926829268, 0.2616136919315403, 0.3333333333333333, 0.4205801104972376, 0.5278900565885206, 0.5980304386750224, 0.7172619047619048, 0.8205607476635514, 0.9259868421052632]\n"
     ]
    },
    {
     "data": {
      "image/png": "[encoded data removed]",
      "text/plain": [
       "<Figure size 640x480 with 1 Axes>"
      ]
     },
     "metadata": {},
     "output_type": "display_data"
    },
    {
     "name": "stdout",
     "output_type": "stream",
     "text": [
      "[nan, 0.24826789838337182, 0.3860759493670886, 0.5445221445221445, 0.6822953114065781, 0.798728813559322, 0.8561549100968188, 0.9240986717267552, 0.96, 0.9951219512195122]\n",
      "[0, 0.24826789838337182, 0.3860759493670886, 0.5445221445221445, 0.6822953114065781, 0.798728813559322, 0.8561549100968188, 0.9240986717267552, 0.96, 0.9951219512195122]\n"
     ]
    },
    {
     "data": {
      "image/png": "[encoded data removed]",
      "text/plain": [
       "<Figure size 640x480 with 1 Axes>"
      ]
     },
     "metadata": {},
     "output_type": "display_data"
    },
    {
     "name": "stdout",
     "output_type": "stream",
     "text": [
      "[nan, 0.5915, nan, nan, nan, nan, nan, nan, nan, nan]\n",
      "[0, 0.5915, 0, 0, 0, 0, 0, 0, 0, 0]\n"
     ]
    },
    {
     "data": {
      "image/png": "[encoded data removed]",
      "text/plain": [
       "<Figure size 640x480 with 1 Axes>"
      ]
     },
     "metadata": {},
     "output_type": "display_data"
    },
    {
     "name": "stdout",
     "output_type": "stream",
     "text": [
      "[nan, 0.5915, nan, nan, nan, nan, nan, nan, nan, nan]\n",
      "[0, 0.5915, 0, 0, 0, 0, 0, 0, 0, 0]\n"
     ]
    },
    {
     "data": {
      "image/png": "[encoded data removed]",
      "text/plain": [
       "<Figure size 640x480 with 1 Axes>"
      ]
     },
     "metadata": {},
     "output_type": "display_data"
    }
   ],
   "source": [
    "for t_value in T_values:\n",
    "    histogram_x = temperature_x[t_value]\n",
    "    \n",
    "    predicted_confidence = [np.max(x[0]) for x in histogram_x]\n",
    "    predicted_class = [np.argmax(x[0]) for x in histogram_x]\n",
    "\n",
    "    bins = [math.floor(item*10) for item in predicted_confidence]\n",
    "    bins = np.array(bins)\n",
    "    predicted_class = np.array(predicted_class)\n",
    "\n",
    "    accs = []\n",
    "\n",
    "    for bin in range(10):\n",
    "        idxs = np.argwhere(bins==bin)\n",
    "        # print(\"bin idxs: \", bin, idxs)\n",
    "        # index into y, y_hat to calculate per bin accuracies\n",
    "        y_preds = predicted_class[idxs]\n",
    "        y_gt = y_gt_label[idxs]\n",
    "\n",
    "        equals = y_preds == y_gt\n",
    "        acc = np.mean(equals)\n",
    "        accs.append(acc)\n",
    "\n",
    "    print(accs)\n",
    "    accs = [0 if math.isnan(x) else x for x in accs]\n",
    "    print(accs)\n",
    "\n",
    "    buckets = list(range(10))\n",
    "\n",
    "    fig, ax = plt.subplots()\n",
    "\n",
    "    ax.bar(buckets, accs, label=buckets)\n",
    "    ax.set_ylabel('acc')\n",
    "    ax.set_xlabel('confidence')\n",
    "    ax.set_title(f'reliability diagram: Temperature Scaling for T = {t_value}')\n",
    "\n",
    "    plt.show()"
   ]
  },
  {
   "cell_type": "code",
   "execution_count": null,
   "id": "013714c5-c17a-4657-9a8c-3b01c570791a",
   "metadata": {},
   "outputs": [],
   "source": []
  }
 ],
 "metadata": {
  "kernelspec": {
   "display_name": "Python 3 (ipykernel)",
   "language": "python",
   "name": "python3"
  },
  "language_info": {
   "codemirror_mode": {
    "name": "ipython",
    "version": 3
   },
   "file_extension": ".py",
   "mimetype": "text/x-python",
   "name": "python",
   "nbconvert_exporter": "python",
   "pygments_lexer": "ipython3",
   "version": "3.10.13"
  }
 },
 "nbformat": 4,
 "nbformat_minor": 5
}
