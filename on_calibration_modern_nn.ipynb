{
 "cells": [
  {
   "cell_type": "code",
   "execution_count": 1,
   "id": "950b9b9a-ea8a-43c4-aef4-bce0b351011c",
   "metadata": {},
   "outputs": [],
   "source": [
    "# imports\n",
    "import numpy as np"
   ]
  },
  {
   "cell_type": "markdown",
   "id": "34a7adcb-361a-4e94-99f9-c2db04d834c8",
   "metadata": {},
   "source": [
    "### What is the point of calibration?\n",
    "\n",
    "* Ensure that predicted probalitilies match real world outcomes\n",
    "* I.e. if a nn cannot confidently predict 1 or 0 for obstructions, the car sensor should rely more on the output of other sensors for braking\n",
    "\n",
    "#### Definitions\n",
    "\n",
    "Define **perfect calibration** as $ P(\\hat{y} = y | \\hat{p} = p) = p  $ \n",
    "\n",
    "The calibration $\\hat{p}=p$ cannot be computed with finitely many samples since $\\hat{p}$ is a continuous random variable.\n",
    "\n",
    "If we have **perfect calibration** then a **reliability diagram** which plots the confidence $\\hat{p}$ on the x axis and the accuracy $P(\\hat{y} = y | \\hat{p} = p)$ on the left should plot the identity function, a diagonal line, $y=x$.\n",
    "\n",
    "To compute a **reliability diagram**, we bin samples based on their confidence, and calculate the accuracy of each bin, given that we also have $[0,1]$ labels."
   ]
  },
  {
   "cell_type": "code",
   "execution_count": 26,
   "id": "b65973ff-ba8a-43f4-8e54-b699b0020012",
   "metadata": {},
   "outputs": [],
   "source": [
    "\"\"\"\n",
    "generate n x 3 data where \n",
    "\n",
    "col_1 is the calibration p, can generate uniformly between (0,1)\n",
    "col_2 is the label y\n",
    "col_3 is the predicted label y, so flip col_2 w.p. 1-p\n",
    "\n",
    "How can we do a bit flip in python?\n",
    "\n",
    "0 --> 1: 0 + 1 mod 2\n",
    "1 --> 0: 1 + 1 mod 2\n",
    "\n",
    "so generate the second operand as a binomial w.p. 1-p\n",
    "\"\"\"\n",
    "\n",
    "import random\n",
    "\n",
    "N = 100\n",
    "\n",
    "\n",
    "def binomialvariate(n,p):\n",
    "    return sum(random.random() < p for i in range(n))\n",
    "\n",
    "col_1 = [random.uniform(0,1) for _ in range(N)]\n",
    "y = [random.randint(0,1) for _ in range(N)]\n",
    "coin_flip = [binomialvariate(n=1,p=1-proba) for proba in col_1]\n",
    "\n",
    "y_hat = [(x + y)% 2 for x,y in zip(y,coin_flip)]\n",
    "\n",
    "data_array = np.array([col_1, y, y_hat])\n",
    "data_array = data_array.T"
   ]
  },
  {
   "cell_type": "code",
   "execution_count": 27,
   "id": "534ed2d9-2efd-4f4c-991f-cb8c4979fcc2",
   "metadata": {},
   "outputs": [],
   "source": [
    "# create M = 10 bins for [0,1] interval?\n",
    "# create list(range(11)) = [0,1,...,9] = buckets \n",
    "# each data point is >= lower_bound and < upper_bound\n",
    "\n",
    "# so if data point is in bucket[i] then data_point >= bucket_[i] and < bucket_[i+1]\n",
    "# min bucket[i] where data_point is greater than bucket[i]"
   ]
  },
  {
   "cell_type": "code",
   "execution_count": 29,
   "id": "48b2b2f2-4162-4404-8aaa-9bcafcdb3575",
   "metadata": {},
   "outputs": [],
   "source": [
    "# sort by col_1, the confidence\n",
    "\n",
    "# col_1 looks like [0.22, ..., 0.44]\n",
    "# multiply by 10 then round down\n",
    "# bucket_assignment = math.floor(item * 10)\n",
    "import math\n",
    "\n",
    "bins = [math.floor(item*10) for item in col_1]\n",
    "# print(bins)\n",
    "\n",
    "bins = np.array(bins)\n",
    "\n",
    "idxs = np.argwhere(bins==9)\n",
    "\n",
    "# col_1, y, y_hat\n",
    "# data_array ....\n",
    "\n",
    "accs = []\n",
    "\n",
    "for bin in range(10):\n",
    "    idxs = np.argwhere(bins==bin)\n",
    "    # index into y, y_hat to calculate per bin accuracies\n",
    "    y_bucket = data_array[idxs,1]\n",
    "    y_hat_bucket = data_array[idxs,2]\n",
    "\n",
    "    equals = y_bucket == y_hat_bucket\n",
    "    acc = np.mean(equals)\n",
    "    accs.append(acc)"
   ]
  },
  {
   "cell_type": "code",
   "execution_count": 30,
   "id": "45d84982-4d5f-4dd7-ba63-9b76781df662",
   "metadata": {},
   "outputs": [
    {
     "name": "stdout",
     "output_type": "stream",
     "text": [
      "[0.0, 0.0, 0.15384615384615385, 0.09090909090909091, 0.4166666666666667, 0.6666666666666666, 0.8333333333333334, 0.5454545454545454, 0.8, 0.875]\n"
     ]
    }
   ],
   "source": [
    "print(accs)"
   ]
  },
  {
   "cell_type": "code",
   "execution_count": 31,
   "id": "61eb94d5-b05f-4405-9096-d52e143e6f6b",
   "metadata": {},
   "outputs": [],
   "source": [
    "buckets = list(range(10))"
   ]
  },
  {
   "cell_type": "code",
   "execution_count": 34,
   "id": "d535e903-24a1-421b-a1df-91894cecd367",
   "metadata": {},
   "outputs": [
    {
     "data": {
      "image/png": "[encoded data removed]",
      "text/plain": [
       "<Figure size 640x480 with 1 Axes>"
      ]
     },
     "metadata": {},
     "output_type": "display_data"
    }
   ],
   "source": [
    "import matplotlib.pyplot as plt\n",
    "\n",
    "fig, ax = plt.subplots()\n",
    "\n",
    "ax.bar(buckets, accs, label=buckets)\n",
    "ax.set_ylabel('acc')\n",
    "ax.set_xlabel('confidence')\n",
    "ax.set_title('reliability diagram')\n",
    "\n",
    "plt.show()"
   ]
  },
  {
   "cell_type": "markdown",
   "id": "34310aee-eb42-453f-bc0c-c3c2bd550cff",
   "metadata": {},
   "source": [
    "### Expected Calibration Error (ECE)\n",
    "\n",
    "Prefer to have a scalar over a diagram\n",
    "\n",
    "$ECE = \\mathbb{E}_{\\hat{p}} [\\lvert P(\\hat{y} = y | \\hat{p} - p\\rvert] = \\sum_{m=1}^M \\frac{\\lvert B_m \\rvert}{n} \\vert acc(B_m) - conf(B_m) \\vert $"
   ]
  },
  {
   "cell_type": "code",
   "execution_count": 37,
   "id": "7a21fea2-2a5c-42a4-ae87-73c1f1cabec4",
   "metadata": {},
   "outputs": [
    {
     "name": "stdout",
     "output_type": "stream",
     "text": [
      "0.1276720396349665\n"
     ]
    }
   ],
   "source": [
    "# col_conf, y, y_hat\n",
    "# data_array ....\n",
    "\n",
    "ece = 0\n",
    "\n",
    "for bin in range(10):\n",
    "    idxs = np.argwhere(bins==bin)\n",
    "    # index into y, y_hat to calculate per bin accuracies\n",
    "    y_bucket = data_array[idxs,1]\n",
    "    y_hat_bucket = data_array[idxs,2]\n",
    "\n",
    "    equals = y_bucket == y_hat_bucket\n",
    "    acc = np.mean(equals)\n",
    "    bucket_size = len(idxs)\n",
    "    conf = np.mean(data_array[idxs,0])\n",
    "    ece += float(bucket_size/N) * abs(acc-conf)\n",
    "\n",
    "print(ece)"
   ]
  },
  {
   "cell_type": "markdown",
   "id": "b1c86ab9-4460-4cbf-940b-6c01f669eb9c",
   "metadata": {},
   "source": [
    "### What are some other ways to calibrate?\n",
    "\n",
    "NLL, i.e. cross entropy loss, $ - \\sum_{p(x)} \\log q(x) $ , (Bengio et al 2015). According to (Friedman et al 2001), NLL is minimized iff $\\hat{\\pi}(y \\vert x)$ recovers the ground truth conidtional distribution $\\pi(y \\vert x)$.\n",
    "\n",
    "In practice, NLL, diverges from accuracy (Zhang et al 2017) so it is not a great calibration method in practice. "
   ]
  },
  {
   "cell_type": "markdown",
   "id": "f85105c0-cd71-4f2a-9cdf-0f60020dc441",
   "metadata": {},
   "source": [
    "### Platt Scaling and generalization to MultiClass Problems\n",
    "\n",
    "What is **Platt scaling** (Platt et al, 1999)?\n",
    "\n",
    "* A parametric approach to calibration\n",
    "* The non-probabilistic predictions of a classifier are used as features for a logistic regression model, which is trained on the validation set to return probabilities\n",
    "* I.e., learn $\\hat{q_i} = \\sigma(a z_i + b)$ as the calibrated probability using NLL over the validation set, while the NN parameters are fixed\n",
    "\n",
    "### Matrix and vector scaling\n",
    "\n",
    "* two multi-class extensions of Platt scaling. Apply linear transformation before the softmax\n",
    "* $\\hat{q_i} = max_k \\sigma_{SM}(W z_i + b)$\n",
    "* $\\hat{y_i'} = argmax_k \\sigma_{SM}(W z_i + b)$\n",
    "\n",
    "* The parameters $W$ and $b$ are optimized wrt to NLL on the validation set."
   ]
  },
  {
   "cell_type": "code",
   "execution_count": null,
   "id": "f80aa58c-4dd4-4028-9e8a-6348a17a6bfe",
   "metadata": {},
   "outputs": [],
   "source": []
  },
  {
   "cell_type": "markdown",
   "id": "42010c43-91a7-4447-9348-b2ff0f46ba35",
   "metadata": {},
   "source": [
    "### Temperature Scaling\n",
    "\n"
   ]
  },
  {
   "cell_type": "code",
   "execution_count": null,
   "id": "a387b4fa-6fa3-4219-b0df-419b3cc27b5a",
   "metadata": {},
   "outputs": [],
   "source": []
  }
 ],
 "metadata": {
  "kernelspec": {
   "display_name": "Python 3 (ipykernel)",
   "language": "python",
   "name": "python3"
  },
  "language_info": {
   "codemirror_mode": {
    "name": "ipython",
    "version": 3
   },
   "file_extension": ".py",
   "mimetype": "text/x-python",
   "name": "python",
   "nbconvert_exporter": "python",
   "pygments_lexer": "ipython3",
   "version": "3.10.13"
  }
 },
 "nbformat": 4,
 "nbformat_minor": 5
}
