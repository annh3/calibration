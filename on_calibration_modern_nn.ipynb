{
 "cells": [
  {
   "cell_type": "code",
   "execution_count": 1,
   "metadata": {},
   "outputs": [],
   "source": [
    "# imports\n",
    "import numpy as np\n",
    "\n",
    "# https://arxiv.org/pdf/1706.04599"
   ]
  },
  {
   "cell_type": "markdown",
   "metadata": {},
   "source": [
    "### What is the point of calibration?\n",
    "\n",
    "* Ensure that predicted probalitilies match real world outcomes\n",
    "* I.e. if a nn cannot confidently predict 1 or 0 for obstructions, the car sensor should rely more on the output of other sensors for braking\n",
    "\n",
    "#### Definitions\n",
    "\n",
    "Define **perfect calibration** as $ P(\\hat{y} = y | \\hat{p} = p) = p  $ \n",
    "\n",
    "The calibration $\\hat{p}=p$ cannot be computed with finitely many samples since $\\hat{p}$ is a continuous random variable.\n",
    "\n",
    "If we have **perfect calibration** then a **reliability diagram** which plots the confidence $\\hat{p}$ on the x axis and the accuracy $P(\\hat{y} = y | \\hat{p} = p)$ on the left should plot the identity function, a diagonal line, $y=x$.\n",
    "\n",
    "To compute a **reliability diagram**, we bin samples based on their confidence, and calculate the accuracy of each bin, given that we also have $[0,1]$ labels."
   ]
  },
  {
   "cell_type": "code",
   "execution_count": 2,
   "metadata": {},
   "outputs": [],
   "source": [
    "\"\"\"\n",
    "generate n x 3 data where \n",
    "\n",
    "col_1 is the calibration p, can generate uniformly between (0,1)\n",
    "col_2 is the label y\n",
    "col_3 is the predicted label y, so flip col_2 w.p. 1-p\n",
    "\n",
    "How can we do a bit flip in python?\n",
    "\n",
    "0 --> 1: 0 + 1 mod 2\n",
    "1 --> 0: 1 + 1 mod 2\n",
    "\n",
    "so generate the second operand as a binomial w.p. 1-p\n",
    "\"\"\"\n",
    "\n",
    "import random\n",
    "\n",
    "N = 100\n",
    "\n",
    "\n",
    "def binomialvariate(n,p):\n",
    "    return sum(random.random() < p for i in range(n))\n",
    "\n",
    "col_1 = [random.uniform(0,1) for _ in range(N)]\n",
    "y = [random.randint(0,1) for _ in range(N)]\n",
    "coin_flip = [binomialvariate(n=1,p=1-proba) for proba in col_1]\n",
    "\n",
    "y_hat = [(x + y)% 2 for x,y in zip(y,coin_flip)]\n",
    "\n",
    "data_array = np.array([col_1, y, y_hat])\n",
    "data_array = data_array.T"
   ]
  },
  {
   "cell_type": "code",
   "execution_count": 3,
   "metadata": {},
   "outputs": [],
   "source": [
    "# create M = 10 bins for [0,1] interval?\n",
    "# create list(range(11)) = [0,1,...,9] = buckets \n",
    "# each data point is >= lower_bound and < upper_bound\n",
    "\n",
    "# so if data point is in bucket[i] then data_point >= bucket_[i] and < bucket_[i+1]\n",
    "# min bucket[i] where data_point is greater than bucket[i]"
   ]
  },
  {
   "cell_type": "code",
   "execution_count": 4,
   "metadata": {},
   "outputs": [],
   "source": [
    "# sort by col_1, the confidence\n",
    "\n",
    "# col_1 looks like [0.22, ..., 0.44]\n",
    "# multiply by 10 then round down\n",
    "# bucket_assignment = math.floor(item * 10)\n",
    "import math\n",
    "\n",
    "bins = [math.floor(item*10) for item in col_1]\n",
    "# print(bins)\n",
    "\n",
    "bins = np.array(bins)\n",
    "\n",
    "idxs = np.argwhere(bins==9)\n",
    "\n",
    "# col_1, y, y_hat\n",
    "# data_array ....\n",
    "\n",
    "accs = []\n",
    "\n",
    "for bin in range(10):\n",
    "    idxs = np.argwhere(bins==bin)\n",
    "    # index into y, y_hat to calculate per bin accuracies\n",
    "    y_bucket = data_array[idxs,1]\n",
    "    y_hat_bucket = data_array[idxs,2]\n",
    "\n",
    "    equals = y_bucket == y_hat_bucket\n",
    "    acc = np.mean(equals)\n",
    "    accs.append(acc)"
   ]
  },
  {
   "cell_type": "code",
   "execution_count": 5,
   "metadata": {},
   "outputs": [
    {
     "name": "stdout",
     "output_type": "stream",
     "text": [
      "[0.125, 0.1875, 0.35, 0.2, 0.6666666666666666, 0.6, 0.8181818181818182, 0.875, 1.0, 1.0]\n"
     ]
    }
   ],
   "source": [
    "print(accs)"
   ]
  },
  {
   "cell_type": "code",
   "execution_count": 6,
   "metadata": {},
   "outputs": [],
   "source": [
    "buckets = list(range(10))\n",
    "buckets = [b+0.5 for b in buckets]"
   ]
  },
  {
   "cell_type": "code",
   "execution_count": 7,
   "metadata": {},
   "outputs": [
    {
     "data": {
      "image/png": "[encoded data removed]",
      "text/plain": [
       "<Figure size 640x480 with 1 Axes>"
      ]
     },
     "metadata": {},
     "output_type": "display_data"
    }
   ],
   "source": [
    "import matplotlib.pyplot as plt\n",
    "\n",
    "fig, ax = plt.subplots()\n",
    "\n",
    "ax.bar(buckets, accs, label=buckets)\n",
    "ax.set_ylabel('acc')\n",
    "ax.set_xlabel('confidence')\n",
    "ax.set_title('reliability diagram')\n",
    "\n",
    "plt.show()"
   ]
  },
  {
   "cell_type": "markdown",
   "metadata": {},
   "source": [
    "### Expected Calibration Error (ECE)\n",
    "\n",
    "Prefer to have a scalar over a diagram\n",
    "\n",
    "$ECE = \\mathbb{E}_{\\hat{p}} [\\lvert P(\\hat{y} = y | \\hat{p} - p\\rvert] = \\sum_{m=1}^M \\frac{\\lvert B_m \\rvert}{n} \\vert acc(B_m) - conf(B_m) \\vert $"
   ]
  },
  {
   "cell_type": "code",
   "execution_count": 8,
   "metadata": {},
   "outputs": [
    {
     "name": "stdout",
     "output_type": "stream",
     "text": [
      "0.11313762686800219\n"
     ]
    }
   ],
   "source": [
    "# col_conf, y, y_hat\n",
    "# data_array ....\n",
    "\n",
    "ece = 0\n",
    "\n",
    "for bin in range(10):\n",
    "    idxs = np.argwhere(bins==bin)\n",
    "    # index into y, y_hat to calculate per bin accuracies\n",
    "    y_bucket = data_array[idxs,1]\n",
    "    y_hat_bucket = data_array[idxs,2]\n",
    "\n",
    "    equals = y_bucket == y_hat_bucket\n",
    "    acc = np.mean(equals)\n",
    "    bucket_size = len(idxs)\n",
    "    conf = np.mean(data_array[idxs,0])\n",
    "    ece += float(bucket_size/N) * abs(acc-conf)\n",
    "\n",
    "print(ece)"
   ]
  },
  {
   "cell_type": "code",
   "execution_count": null,
   "metadata": {},
   "outputs": [],
   "source": []
  },
  {
   "cell_type": "markdown",
   "metadata": {},
   "source": [
    "### What are some ways to calibrate?\n",
    "\n",
    "NLL, i.e. cross entropy loss, $ - \\sum_{p(x)} \\log q(x) $ , (Bengio et al 2015). According to (Friedman et al 2001), NLL is minimized iff $\\hat{\\pi}(y \\vert x)$ recovers the ground truth conidtional distribution $\\pi(y \\vert x)$.\n",
    "\n",
    "In practice, NLL, diverges from accuracy (Zhang et al 2017) so it is not a great calibration method in practice. "
   ]
  },
  {
   "cell_type": "markdown",
   "metadata": {},
   "source": [
    "### Platt Scaling and generalization to MultiClass Problems\n",
    "\n",
    "What is **Platt scaling** (Platt et al, 1999)?\n",
    "# https://home.cs.colorado.edu/~mozer/Teaching/syllabi/6622/papers/Platt1999.pdf\n",
    "\n",
    "* A parametric approach to calibration\n",
    "* The non-probabilistic predictions of a classifier are used as features for a logistic regression model, which is trained on the validation set to return probabilities\n",
    "* I.e., learn $\\hat{q_i} = \\sigma(a z_i + b)$ as the calibrated probability using NLL over the validation set, while the NN parameters are fixed\n",
    "\n",
    "### Matrix and vector scaling\n",
    "\n",
    "* two multi-class extensions of Platt scaling. Apply linear transformation before the softmax\n",
    "* $\\hat{q_i} = max_k \\sigma_{SM}(W z_i + b)$\n",
    "* $\\hat{y_i'} = argmax_k \\sigma_{SM}(W z_i + b)$\n",
    "\n",
    "* The parameters $W$ and $b$ are optimized wrt to NLL on the validation set."
   ]
  },
  {
   "cell_type": "code",
   "execution_count": 9,
   "metadata": {},
   "outputs": [
    {
     "name": "stdout",
     "output_type": "stream",
     "text": [
      "Files already downloaded and verified\n",
      "Files already downloaded and verified\n"
     ]
    }
   ],
   "source": [
    "# https://pytorch.org/tutorials/beginner/blitz/cifar10_tutorial.html\n",
    "\n",
    "import torch\n",
    "import torchvision\n",
    "import torchvision.transforms as transforms\n",
    "\n",
    "transform = transforms.Compose(\n",
    "    [transforms.ToTensor(),\n",
    "     transforms.Normalize((0.5, 0.5, 0.5), (0.5, 0.5, 0.5))])\n",
    "\n",
    "batch_size = 4\n",
    "\n",
    "trainset = torchvision.datasets.CIFAR10(root='./data', train=True,\n",
    "                                        download=True, transform=transform)\n",
    "trainloader = torch.utils.data.DataLoader(trainset, batch_size=batch_size,\n",
    "                                          shuffle=True, num_workers=2)\n",
    "\n",
    "testset = torchvision.datasets.CIFAR10(root='./data', train=False,\n",
    "                                       download=True, transform=transform)\n",
    "testloader = torch.utils.data.DataLoader(testset, batch_size=batch_size,\n",
    "                                         shuffle=False, num_workers=2)\n",
    "\n",
    "classes = ('plane', 'car', 'bird', 'cat',\n",
    "           'deer', 'dog', 'frog', 'horse', 'ship', 'truck')"
   ]
  },
  {
   "cell_type": "code",
   "execution_count": 10,
   "metadata": {},
   "outputs": [
    {
     "name": "stdout",
     "output_type": "stream",
     "text": [
      "Files already downloaded and verified\n"
     ]
    }
   ],
   "source": [
    "testset = torchvision.datasets.CIFAR10(root='./data', train=False,\n",
    "                                       download=True, transform=transform)"
   ]
  },
  {
   "cell_type": "code",
   "execution_count": 11,
   "metadata": {},
   "outputs": [
    {
     "data": {
      "image/png": "[encoded data removed]",
      "text/plain": [
       "<Figure size 640x480 with 1 Axes>"
      ]
     },
     "metadata": {},
     "output_type": "display_data"
    },
    {
     "name": "stdout",
     "output_type": "stream",
     "text": [
      "bird  ship  ship  ship \n"
     ]
    }
   ],
   "source": [
    "# functions to show an image\n",
    "def imshow(img):\n",
    "    img = img / 2 + 0.5     # unnormalize\n",
    "    npimg = img.numpy()\n",
    "    plt.imshow(np.transpose(npimg, (1, 2, 0)))\n",
    "    plt.show()\n",
    "\n",
    "\n",
    "# get some random training images\n",
    "dataiter = iter(trainloader)\n",
    "images, labels = next(dataiter)\n",
    "\n",
    "# show images\n",
    "imshow(torchvision.utils.make_grid(images))\n",
    "# print labels\n",
    "print(' '.join(f'{classes[labels[j]]:5s}' for j in range(batch_size)))"
   ]
  },
  {
   "cell_type": "markdown",
   "metadata": {},
   "source": [
    "### Define a Convolutional Neural Network\n"
   ]
  },
  {
   "cell_type": "code",
   "execution_count": 12,
   "metadata": {},
   "outputs": [],
   "source": [
    "import torch.nn as nn\n",
    "import torch.nn.functional as F\n",
    "\n",
    "\n",
    "class Net(nn.Module):\n",
    "    def __init__(self):\n",
    "        super().__init__()\n",
    "        self.conv1 = nn.Conv2d(3, 6, 5)\n",
    "        self.pool = nn.MaxPool2d(2, 2)\n",
    "        self.conv2 = nn.Conv2d(6, 16, 5)\n",
    "        self.fc1 = nn.Linear(16 * 5 * 5, 120)\n",
    "        self.fc2 = nn.Linear(120, 84)\n",
    "        self.fc3 = nn.Linear(84, 10)\n",
    "\n",
    "    def forward(self, x):\n",
    "        x = self.pool(F.relu(self.conv1(x)))\n",
    "        x = self.pool(F.relu(self.conv2(x)))\n",
    "        x = torch.flatten(x, 1) # flatten all dimensions except batch\n",
    "        x = F.relu(self.fc1(x))\n",
    "        x = F.relu(self.fc2(x))\n",
    "        x = self.fc3(x)\n",
    "        return x\n",
    "\n",
    "\n",
    "net = Net()"
   ]
  },
  {
   "cell_type": "code",
   "execution_count": 13,
   "metadata": {},
   "outputs": [],
   "source": [
    "import torch.optim as optim\n",
    "\n",
    "criterion = nn.CrossEntropyLoss()\n",
    "optimizer = optim.SGD(net.parameters(), lr=0.001, momentum=0.9)"
   ]
  },
  {
   "cell_type": "code",
   "execution_count": 14,
   "metadata": {},
   "outputs": [
    {
     "name": "stdout",
     "output_type": "stream",
     "text": [
      "[1,  2000] loss: 2.156\n",
      "[1,  4000] loss: 1.825\n",
      "[1,  6000] loss: 1.680\n",
      "[1,  8000] loss: 1.556\n",
      "[1, 10000] loss: 1.530\n",
      "[1, 12000] loss: 1.471\n",
      "[2,  2000] loss: 1.386\n",
      "[2,  4000] loss: 1.389\n",
      "[2,  6000] loss: 1.347\n",
      "[2,  8000] loss: 1.323\n",
      "[2, 10000] loss: 1.299\n",
      "[2, 12000] loss: 1.275\n",
      "[3,  2000] loss: 1.222\n",
      "[3,  4000] loss: 1.198\n",
      "[3,  6000] loss: 1.207\n",
      "[3,  8000] loss: 1.190\n",
      "[3, 10000] loss: 1.165\n",
      "[3, 12000] loss: 1.177\n",
      "[4,  2000] loss: 1.102\n",
      "[4,  4000] loss: 1.103\n",
      "[4,  6000] loss: 1.126\n",
      "[4,  8000] loss: 1.113\n",
      "[4, 10000] loss: 1.096\n",
      "[4, 12000] loss: 1.093\n",
      "Finished Training\n"
     ]
    }
   ],
   "source": [
    "for epoch in range(4):  # loop over the dataset multiple times\n",
    "\n",
    "    running_loss = 0.0\n",
    "    for i, data in enumerate(trainloader, 0):\n",
    "        # get the inputs; data is a list of [inputs, labels]\n",
    "        inputs, labels = data\n",
    "\n",
    "        # zero the parameter gradients\n",
    "        optimizer.zero_grad()\n",
    "\n",
    "        # forward + backward + optimize\n",
    "        outputs = net(inputs)\n",
    "        loss = criterion(outputs, labels)\n",
    "        loss.backward()\n",
    "        optimizer.step()\n",
    "\n",
    "        # print statistics\n",
    "        running_loss += loss.item()\n",
    "        if i % 2000 == 1999:    # print every 2000 mini-batches\n",
    "            print(f'[{epoch + 1}, {i + 1:5d}] loss: {running_loss / 2000:.3f}')\n",
    "            running_loss = 0.0\n",
    "\n",
    "print('Finished Training')"
   ]
  },
  {
   "cell_type": "code",
   "execution_count": 15,
   "metadata": {},
   "outputs": [],
   "source": [
    "PATH = './cifar_net.pth'\n",
    "torch.save(net.state_dict(), PATH)"
   ]
  },
  {
   "cell_type": "code",
   "execution_count": 16,
   "metadata": {},
   "outputs": [
    {
     "name": "stdout",
     "output_type": "stream",
     "text": [
      "Accuracy of the network on the 10000 test images: 59 %\n"
     ]
    }
   ],
   "source": [
    "correct = 0\n",
    "total = 0\n",
    "# since we're not training, we don't need to calculate the gradients for our outputs\n",
    "with torch.no_grad():\n",
    "    for data in testloader:\n",
    "        images, labels = data\n",
    "        # calculate outputs by running images through the network\n",
    "        outputs = net(images)\n",
    "        # print(outputs.data.shape)\n",
    "        # the class with the highest energy is what we choose as prediction\n",
    "        _, predicted = torch.max(outputs.data, 1)\n",
    "        total += labels.size(0)\n",
    "        correct += (predicted == labels).sum().item()\n",
    "\n",
    "print(f'Accuracy of the network on the 10000 test images: {100 * correct // total} %')"
   ]
  },
  {
   "cell_type": "code",
   "execution_count": 17,
   "metadata": {},
   "outputs": [],
   "source": [
    "# Freeze params of the CNN\n",
    "\n",
    "for param in net.parameters():\n",
    "    param.requires_grad = False"
   ]
  },
  {
   "cell_type": "code",
   "execution_count": 38,
   "metadata": {},
   "outputs": [],
   "source": [
    "# define a new net, call it PlattNet\n",
    "\n",
    "class PlattNet(nn.Module):\n",
    "    def __init__(self):\n",
    "        super().__init__()\n",
    "        self.matrix = nn.Linear(10, 10)\n",
    "\n",
    "    def forward(self, x):\n",
    "        x = self.matrix(x)\n",
    "        x = F.softmax(x,dim=1)\n",
    "        return x\n",
    "\n",
    "plattnet = PlattNet()\n",
    "\n",
    "for param in plattnet.parameters():\n",
    "    param.requires_grad = True"
   ]
  },
  {
   "cell_type": "code",
   "execution_count": 39,
   "metadata": {},
   "outputs": [],
   "source": [
    "criterion = nn.CrossEntropyLoss()\n",
    "optimizer = optim.SGD(plattnet.parameters(), lr=0.01, momentum=0.9)"
   ]
  },
  {
   "cell_type": "code",
   "execution_count": 40,
   "metadata": {},
   "outputs": [
    {
     "name": "stdout",
     "output_type": "stream",
     "text": [
      "[1,  2000] loss: 1.982\n",
      "[1,  4000] loss: 1.906\n",
      "[1,  6000] loss: 1.891\n",
      "[1,  8000] loss: 1.892\n",
      "[1, 10000] loss: 1.886\n",
      "[2,  2000] loss: 1.870\n",
      "[2,  4000] loss: 1.872\n",
      "[2,  6000] loss: 1.874\n",
      "[2,  8000] loss: 1.889\n",
      "[2, 10000] loss: 1.874\n",
      "[3,  2000] loss: 1.860\n",
      "[3,  4000] loss: 1.867\n",
      "[3,  6000] loss: 1.863\n",
      "[3,  8000] loss: 1.885\n",
      "[3, 10000] loss: 1.873\n",
      "[4,  2000] loss: 1.858\n",
      "[4,  4000] loss: 1.863\n",
      "[4,  6000] loss: 1.861\n",
      "[4,  8000] loss: 1.871\n",
      "[4, 10000] loss: 1.869\n",
      "[5,  2000] loss: 1.851\n",
      "[5,  4000] loss: 1.860\n",
      "[5,  6000] loss: 1.859\n",
      "[5,  8000] loss: 1.866\n",
      "[5, 10000] loss: 1.868\n",
      "[6,  2000] loss: 1.851\n",
      "[6,  4000] loss: 1.857\n",
      "[6,  6000] loss: 1.854\n",
      "[6,  8000] loss: 1.866\n",
      "[6, 10000] loss: 1.865\n",
      "[7,  2000] loss: 1.850\n",
      "[7,  4000] loss: 1.857\n",
      "[7,  6000] loss: 1.849\n",
      "[7,  8000] loss: 1.866\n",
      "[7, 10000] loss: 1.867\n",
      "[8,  2000] loss: 1.846\n",
      "[8,  4000] loss: 1.853\n",
      "[8,  6000] loss: 1.851\n",
      "[8,  8000] loss: 1.873\n",
      "[8, 10000] loss: 1.867\n",
      "[9,  2000] loss: 1.848\n",
      "[9,  4000] loss: 1.856\n",
      "[9,  6000] loss: 1.850\n",
      "[9,  8000] loss: 1.868\n",
      "[9, 10000] loss: 1.866\n",
      "[10,  2000] loss: 1.850\n",
      "[10,  4000] loss: 1.854\n",
      "[10,  6000] loss: 1.848\n",
      "[10,  8000] loss: 1.870\n",
      "[10, 10000] loss: 1.865\n",
      "Finished Calibration\n"
     ]
    }
   ],
   "source": [
    "for epoch in range(10):  # loop over the validation dataset multiple times\n",
    "\n",
    "    running_loss = 0.0\n",
    "    for i, data in enumerate(testloader, 0):\n",
    "        # get the inputs; data is a list of [inputs, labels]\n",
    "        inputs, labels = data\n",
    "\n",
    "        # zero the parameter gradients\n",
    "        optimizer.zero_grad()\n",
    "\n",
    "        # forward + backward + optimize\n",
    "        outputs = net(inputs)\n",
    "        outputs = plattnet(outputs)\n",
    "        loss = criterion(outputs, labels)\n",
    "        loss.backward()\n",
    "        optimizer.step()\n",
    "\n",
    "        # print statistics\n",
    "        running_loss += loss.item()\n",
    "        if i % 2000 == 1999:    # print every 2000 mini-batches\n",
    "            print(f'[{epoch + 1}, {i + 1:5d}] loss: {running_loss / 2000:.3f}')\n",
    "            running_loss = 0.0\n",
    "\n",
    "print('Finished Calibration')"
   ]
  },
  {
   "cell_type": "code",
   "execution_count": 41,
   "metadata": {},
   "outputs": [],
   "source": [
    "testloader = torch.utils.data.DataLoader(testset, batch_size=1,\n",
    "                                         shuffle=False, num_workers=2)"
   ]
  },
  {
   "cell_type": "code",
   "execution_count": 22,
   "metadata": {},
   "outputs": [],
   "source": [
    "for param in plattnet.parameters():\n",
    "    param.requires_grad = False"
   ]
  },
  {
   "cell_type": "code",
   "execution_count": 23,
   "metadata": {},
   "outputs": [],
   "source": [
    "histogram_x = []\n",
    "histogram_y = []"
   ]
  },
  {
   "cell_type": "code",
   "execution_count": 24,
   "metadata": {},
   "outputs": [
    {
     "name": "stdout",
     "output_type": "stream",
     "text": [
      "data point:  0\n",
      "data point:  1000\n",
      "data point:  2000\n",
      "data point:  3000\n",
      "data point:  4000\n",
      "data point:  5000\n",
      "data point:  6000\n",
      "data point:  7000\n",
      "data point:  8000\n",
      "data point:  9000\n",
      "Finished Collecting Calibrated Points\n"
     ]
    }
   ],
   "source": [
    "for epoch in range(1):  # loop over the validation dataset multiple times\n",
    "\n",
    "    running_loss = 0.0\n",
    "    for i, data in enumerate(testloader, 0):\n",
    "        # get the inputs; data is a list of [inputs, labels]\n",
    "        inputs, labels = data\n",
    "\n",
    "        # forward + backward + optimize\n",
    "        outputs = net(inputs)\n",
    "        outputs = plattnet(outputs)\n",
    "        outputs = outputs.detach().numpy()\n",
    "        labels = labels.detach().numpy()\n",
    "        histogram_x.append(outputs)\n",
    "        histogram_y.append(labels)\n",
    "        \n",
    "\n",
    "        if i % 1000 == 0: print(\"data point: \", i)\n",
    "\n",
    "print('Finished Collecting Calibrated Points')"
   ]
  },
  {
   "cell_type": "code",
   "execution_count": 25,
   "metadata": {},
   "outputs": [
    {
     "name": "stdout",
     "output_type": "stream",
     "text": [
      "[9.6291651e-06 6.6985536e-05 9.4124733e-04 3.4657544e-01 1.1430851e-03\n",
      " 1.1624161e-02 6.3919026e-01 3.9858798e-05 1.9717305e-04 2.1224306e-04]\n"
     ]
    }
   ],
   "source": [
    "print(histogram_x[0][0])"
   ]
  },
  {
   "cell_type": "code",
   "execution_count": 26,
   "metadata": {},
   "outputs": [
    {
     "name": "stdout",
     "output_type": "stream",
     "text": [
      "0.63919026\n"
     ]
    }
   ],
   "source": [
    "res = np.max(histogram_x[0][0])\n",
    "print(res)"
   ]
  },
  {
   "cell_type": "code",
   "execution_count": 27,
   "metadata": {},
   "outputs": [
    {
     "name": "stdout",
     "output_type": "stream",
     "text": [
      "<class 'numpy.ndarray'>\n",
      "<class 'list'>\n",
      "<class 'numpy.ndarray'>\n",
      "<class 'numpy.ndarray'>\n",
      "[nan, nan, 0.20652173913043478, 0.255, 0.3142857142857143, 0.38968481375358166, 0.4205607476635514, 0.5251727541954591, 0.5594462540716613, 0.8118878005342832]\n",
      "[0, 0, 0.20652173913043478, 0.255, 0.3142857142857143, 0.38968481375358166, 0.4205607476635514, 0.5251727541954591, 0.5594462540716613, 0.8118878005342832]\n"
     ]
    },
    {
     "name": "stderr",
     "output_type": "stream",
     "text": [
      "/Users/annhe/anaconda3/envs/agency/lib/python3.10/site-packages/numpy/core/fromnumeric.py:3432: RuntimeWarning: Mean of empty slice.\n",
      "  return _methods._mean(a, axis=axis, dtype=dtype,\n",
      "/Users/annhe/anaconda3/envs/agency/lib/python3.10/site-packages/numpy/core/_methods.py:190: RuntimeWarning: invalid value encountered in double_scalars\n",
      "  ret = ret.dtype.type(ret / rcount)\n"
     ]
    },
    {
     "data": {
      "image/png": "[encoded data removed]",
      "text/plain": [
       "<Figure size 640x480 with 1 Axes>"
      ]
     },
     "metadata": {},
     "output_type": "display_data"
    }
   ],
   "source": [
    "predicted_confidence = [np.max(x[0]) for x in histogram_x]\n",
    "predicted_class = [np.argmax(x[0]) for x in histogram_x]\n",
    "y_gt_label = [x[0] for x in histogram_y]\n",
    "\n",
    "bins = [math.floor(item*10) for item in predicted_confidence]\n",
    "bins = np.array(bins)\n",
    "print(type(bins))\n",
    "print(type(predicted_class))\n",
    "predicted_class = np.array(predicted_class)\n",
    "print(type(predicted_class))\n",
    "y_gt_label = np.array(y_gt_label)\n",
    "print(type(y_gt_label))\n",
    "\n",
    "accs = []\n",
    "\n",
    "for bin in range(10):\n",
    "    idxs = np.argwhere(bins==bin)\n",
    "    # print(\"bin idxs: \", bin, idxs)\n",
    "    # index into y, y_hat to calculate per bin accuracies\n",
    "    y_preds = predicted_class[idxs]\n",
    "    y_gt = y_gt_label[idxs]\n",
    "\n",
    "    equals = y_preds == y_gt\n",
    "    acc = np.mean(equals)\n",
    "    accs.append(acc)\n",
    "\n",
    "print(accs)\n",
    "accs = [0 if math.isnan(x) else x for x in accs]\n",
    "print(accs)\n",
    "\n",
    "buckets = list(range(10))\n",
    "buckets = [b+0.5 for b in buckets]\n",
    "identity = [b*0.1 for b in buckets]\n",
    "\n",
    "fig, ax = plt.subplots()\n",
    "\n",
    "ax.bar(buckets, accs, label='Actual')\n",
    "plt.bar(buckets, identity, color='r', alpha=0.5, label='Identity Fn')\n",
    "plt.legend()\n",
    "ax.set_ylabel('acc')\n",
    "ax.set_xlabel('confidence')\n",
    "ax.set_title('reliability diagram: Matrix Vector Scaling on CIFAR 10')\n",
    "\n",
    "plt.show()"
   ]
  },
  {
   "cell_type": "markdown",
   "metadata": {},
   "source": [
    "### Temperature Scaling\n",
    "\n",
    "* A single parameter $T > 0$\n",
    "* Given the logit vector $z_i$, the confidence prediction is $\\hat{q_i} = \\max_k \\sigma_{SM}(z_i/T)$"
   ]
  },
  {
   "cell_type": "code",
   "execution_count": 28,
   "metadata": {},
   "outputs": [
    {
     "name": "stdout",
     "output_type": "stream",
     "text": [
      "Finished Collecting Calibrated Points\n"
     ]
    }
   ],
   "source": [
    "temperature_x = {}\n",
    "T_values = [1,2,50,100]\n",
    "for t_value in T_values:\n",
    "    temperature_x[t_value] = []\n",
    "\n",
    "for t_value in T_values:\n",
    "    for epoch in range(1):  # loop over the validation dataset multiple times\n",
    "\n",
    "        running_loss = 0.0\n",
    "        for i, data in enumerate(testloader, 0):\n",
    "            # get the inputs; data is a list of [inputs, labels]\n",
    "            inputs, labels = data\n",
    "\n",
    "            # forward + backward + optimize\n",
    "            outputs = net(inputs)\n",
    "            outputs /= t_value\n",
    "            # print(outputs.shape)\n",
    "            outputs = F.softmax(outputs,dim=1)\n",
    "            #outputs = plattnet(outputs)\n",
    "            outputs = outputs.detach().numpy()\n",
    "            #labels = labels.detach().numpy()\n",
    "            temperature_x[t_value].append(outputs)\n",
    "            #histogram_y.append(labels)\n",
    "        \n",
    "\n",
    "        if i % 100 == 0: print(\"data point: \", i)\n",
    "\n",
    "print('Finished Collecting Calibrated Points')"
   ]
  },
  {
   "cell_type": "code",
   "execution_count": 29,
   "metadata": {},
   "outputs": [
    {
     "name": "stdout",
     "output_type": "stream",
     "text": [
      "[nan, 0.2236842105263158, 0.27450980392156865, 0.3347763347763348, 0.44606060606060605, 0.5352635486265775, 0.6288848263254113, 0.6938144329896907, 0.8159831756046267, 0.9261363636363636]\n",
      "[0, 0.2236842105263158, 0.27450980392156865, 0.3347763347763348, 0.44606060606060605, 0.5352635486265775, 0.6288848263254113, 0.6938144329896907, 0.8159831756046267, 0.9261363636363636]\n"
     ]
    },
    {
     "data": {
      "image/png": "[encoded data removed]",
      "text/plain": [
       "<Figure size 640x480 with 1 Axes>"
      ]
     },
     "metadata": {},
     "output_type": "display_data"
    },
    {
     "name": "stdout",
     "output_type": "stream",
     "text": [
      "[nan, 0.2662251655629139, 0.39116494478090486, 0.5436849253055681, 0.6849498327759197, 0.8002081165452654, 0.875, 0.9143426294820717, 0.9490616621983914, 0.9823008849557522]\n",
      "[0, 0.2662251655629139, 0.39116494478090486, 0.5436849253055681, 0.6849498327759197, 0.8002081165452654, 0.875, 0.9143426294820717, 0.9490616621983914, 0.9823008849557522]\n"
     ]
    },
    {
     "data": {
      "image/png": "[encoded data removed]",
      "text/plain": [
       "<Figure size 640x480 with 1 Axes>"
      ]
     },
     "metadata": {},
     "output_type": "display_data"
    },
    {
     "name": "stdout",
     "output_type": "stream",
     "text": [
      "[nan, 0.5916, nan, nan, nan, nan, nan, nan, nan, nan]\n",
      "[0, 0.5916, 0, 0, 0, 0, 0, 0, 0, 0]\n"
     ]
    },
    {
     "data": {
      "image/png": "[encoded data removed]",
      "text/plain": [
       "<Figure size 640x480 with 1 Axes>"
      ]
     },
     "metadata": {},
     "output_type": "display_data"
    },
    {
     "name": "stdout",
     "output_type": "stream",
     "text": [
      "[nan, 0.5916, nan, nan, nan, nan, nan, nan, nan, nan]\n",
      "[0, 0.5916, 0, 0, 0, 0, 0, 0, 0, 0]\n"
     ]
    },
    {
     "data": {
      "image/png": "[encoded data removed]",
      "text/plain": [
       "<Figure size 640x480 with 1 Axes>"
      ]
     },
     "metadata": {},
     "output_type": "display_data"
    }
   ],
   "source": [
    "for t_value in T_values:\n",
    "    histogram_x = temperature_x[t_value]\n",
    "    \n",
    "    predicted_confidence = [np.max(x[0]) for x in histogram_x]\n",
    "    predicted_class = [np.argmax(x[0]) for x in histogram_x]\n",
    "\n",
    "    bins = [math.floor(item*10) for item in predicted_confidence]\n",
    "    bins = np.array(bins)\n",
    "    predicted_class = np.array(predicted_class)\n",
    "\n",
    "    accs = []\n",
    "\n",
    "    for bin in range(10):\n",
    "        idxs = np.argwhere(bins==bin)\n",
    "        # print(\"bin idxs: \", bin, idxs)\n",
    "        # index into y, y_hat to calculate per bin accuracies\n",
    "        y_preds = predicted_class[idxs]\n",
    "        y_gt = y_gt_label[idxs]\n",
    "\n",
    "        equals = y_preds == y_gt\n",
    "        acc = np.mean(equals)\n",
    "        accs.append(acc)\n",
    "\n",
    "    print(accs)\n",
    "    accs = [0 if math.isnan(x) else x for x in accs]\n",
    "    print(accs)\n",
    "\n",
    "    buckets = list(range(10))\n",
    "    buckets = [b+0.5 for b in buckets]\n",
    "    identity = [b*0.1 for b in buckets]\n",
    "\n",
    "    fig, ax = plt.subplots()\n",
    "\n",
    "    ax.bar(buckets, accs, label='Actual')\n",
    "    plt.bar(buckets, identity, color='r', alpha=0.5, label='Identity Fn')\n",
    "    plt.legend()\n",
    "    ax.set_ylabel('acc')\n",
    "    ax.set_xlabel('confidence')\n",
    "    ax.set_title(f'reliability diagram: Temperature Scaling for T = {t_value}')\n",
    "\n",
    "    plt.show()"
   ]
  },
  {
   "cell_type": "code",
   "execution_count": 30,
   "metadata": {},
   "outputs": [
    {
     "name": "stdout",
     "output_type": "stream",
     "text": [
      "[Parameter containing:\n",
      "tensor(1., requires_grad=True)]\n"
     ]
    }
   ],
   "source": [
    "# define a new net, call it TemperatureNet\n",
    "\n",
    "class TemperatureNet(nn.Module):\n",
    "    def __init__(self):\n",
    "        super().__init__()\n",
    "        self.temperature = torch.nn.Parameter(torch.tensor(1.))\n",
    "        self.register_parameter(name='temperature', param=torch.nn.Parameter(torch.tensor(1.)))\n",
    "\n",
    "    def forward(self, x):\n",
    "        x = x * self.temperature\n",
    "        x = F.softmax(x,dim=1)\n",
    "        return x\n",
    "\n",
    "tempnet = TemperatureNet()\n",
    "\n",
    "print(list(tempnet.parameters()))\n",
    "\n",
    "for param in tempnet.parameters():\n",
    "    param.requires_grad = True\n",
    "\n",
    "criterion = nn.CrossEntropyLoss()\n",
    "optimizer = optim.SGD(tempnet.parameters(), lr=0.001, momentum=0.9)"
   ]
  },
  {
   "cell_type": "code",
   "execution_count": 31,
   "metadata": {},
   "outputs": [
    {
     "name": "stdout",
     "output_type": "stream",
     "text": [
      "[1,  2000] loss: 1.896\n",
      "[1,  4000] loss: 1.880\n",
      "[1,  6000] loss: 1.872\n",
      "[1,  8000] loss: 1.886\n",
      "[1, 10000] loss: 1.879\n",
      "[2,  2000] loss: 1.864\n",
      "[2,  4000] loss: 1.869\n",
      "[2,  6000] loss: 1.866\n",
      "[2,  8000] loss: 1.882\n",
      "[2, 10000] loss: 1.876\n",
      "[3,  2000] loss: 1.861\n",
      "[3,  4000] loss: 1.867\n",
      "[3,  6000] loss: 1.864\n",
      "[3,  8000] loss: 1.880\n",
      "[3, 10000] loss: 1.875\n",
      "Finished Calibration\n"
     ]
    }
   ],
   "source": [
    "for epoch in range(3):  # loop over the validation dataset multiple times\n",
    "\n",
    "    running_loss = 0.0\n",
    "    for i, data in enumerate(testloader, 0):\n",
    "        # get the inputs; data is a list of [inputs, labels]\n",
    "        inputs, labels = data\n",
    "\n",
    "        # zero the parameter gradients\n",
    "        optimizer.zero_grad()\n",
    "\n",
    "        # forward + backward + optimize\n",
    "        outputs = net(inputs)\n",
    "        outputs = tempnet(outputs)\n",
    "        loss = criterion(outputs, labels)\n",
    "        loss.backward()\n",
    "        optimizer.step()\n",
    "\n",
    "        # print statistics\n",
    "        running_loss += loss.item()\n",
    "        if i % 2000 == 1999:    # print every 2000 mini-batches\n",
    "            print(f'[{epoch + 1}, {i + 1:5d}] loss: {running_loss / 2000:.3f}')\n",
    "            running_loss = 0.0\n",
    "\n",
    "print('Finished Calibration')"
   ]
  },
  {
   "cell_type": "code",
   "execution_count": 32,
   "metadata": {},
   "outputs": [],
   "source": [
    "for param in tempnet.parameters():\n",
    "    param.requires_grad = False"
   ]
  },
  {
   "cell_type": "code",
   "execution_count": 33,
   "metadata": {},
   "outputs": [],
   "source": [
    "tempnet_x = []\n",
    "tempnet_y = []"
   ]
  },
  {
   "cell_type": "code",
   "execution_count": 34,
   "metadata": {},
   "outputs": [
    {
     "name": "stdout",
     "output_type": "stream",
     "text": [
      "data point:  0\n",
      "data point:  1000\n",
      "data point:  2000\n",
      "data point:  3000\n",
      "data point:  4000\n",
      "data point:  5000\n",
      "data point:  6000\n",
      "data point:  7000\n",
      "data point:  8000\n",
      "data point:  9000\n",
      "Finished Collecting Calibrated Points\n"
     ]
    }
   ],
   "source": [
    "for epoch in range(1):  # loop over the validation dataset multiple times\n",
    "\n",
    "    running_loss = 0.0\n",
    "    for i, data in enumerate(testloader, 0):\n",
    "        # get the inputs; data is a list of [inputs, labels]\n",
    "        inputs, labels = data\n",
    "\n",
    "        # forward + backward + optimize\n",
    "        outputs = net(inputs)\n",
    "        outputs = tempnet(outputs)\n",
    "        outputs = outputs.detach().numpy()\n",
    "        labels = labels.detach().numpy()\n",
    "        tempnet_x.append(outputs)\n",
    "        tempnet_y.append(labels)\n",
    "        \n",
    "\n",
    "        if i % 1000 == 0: print(\"data point: \", i)\n",
    "\n",
    "print('Finished Collecting Calibrated Points')"
   ]
  },
  {
   "cell_type": "code",
   "execution_count": 35,
   "metadata": {},
   "outputs": [
    {
     "name": "stdout",
     "output_type": "stream",
     "text": [
      "Parameter containing:\n",
      "tensor(3.8558)\n"
     ]
    }
   ],
   "source": [
    "print(tempnet.temperature)"
   ]
  },
  {
   "cell_type": "code",
   "execution_count": 36,
   "metadata": {},
   "outputs": [
    {
     "name": "stdout",
     "output_type": "stream",
     "text": [
      "[nan, nan, 0.2222222222222222, 0.225, 0.25, 0.3303834808259587, 0.37535410764872523, 0.41939890710382516, 0.4296799224054316, 0.6856396866840732]\n",
      "[0, 0, 0.2222222222222222, 0.225, 0.25, 0.3303834808259587, 0.37535410764872523, 0.41939890710382516, 0.4296799224054316, 0.6856396866840732]\n"
     ]
    },
    {
     "data": {
      "image/png": "[encoded data removed]",
      "text/plain": [
       "<Figure size 640x480 with 1 Axes>"
      ]
     },
     "metadata": {},
     "output_type": "display_data"
    }
   ],
   "source": [
    "# TODO, final overlaid plots\n",
    "t_value = tempnet.temperature.detach().numpy()\n",
    "histogram_x = tempnet_x\n",
    "predicted_confidence = [np.max(x[0]) for x in histogram_x]\n",
    "predicted_class = [np.argmax(x[0]) for x in histogram_x]\n",
    "\n",
    "bins = [math.floor(item*10) for item in predicted_confidence]\n",
    "bins = np.array(bins)\n",
    "predicted_class = np.array(predicted_class)\n",
    "\n",
    "accs = []\n",
    "\n",
    "for bin in range(10):\n",
    "    idxs = np.argwhere(bins==bin)\n",
    "    # print(\"bin idxs: \", bin, idxs)\n",
    "    # index into y, y_hat to calculate per bin accuracies\n",
    "    y_preds = predicted_class[idxs]\n",
    "    y_gt = y_gt_label[idxs]\n",
    "\n",
    "    equals = y_preds == y_gt\n",
    "    acc = np.mean(equals)\n",
    "    accs.append(acc)\n",
    "\n",
    "print(accs)\n",
    "accs = [0 if math.isnan(x) else x for x in accs]\n",
    "print(accs)\n",
    "\n",
    "buckets = list(range(10))\n",
    "buckets = [b+0.5 for b in buckets]\n",
    "identity = [b*0.1 for b in buckets]\n",
    "\n",
    "fig, ax = plt.subplots()\n",
    "\n",
    "ax.bar(buckets, accs, label='Actual')\n",
    "plt.bar(buckets, identity, color='r', alpha=0.5, label='Identity Fn')\n",
    "plt.legend()\n",
    "\n",
    "ax.set_ylabel('acc')\n",
    "ax.set_xlabel('confidence')\n",
    "ax.set_title(f'reliability diagram: Temperature Scaling for T = {t_value}')\n",
    "\n",
    "plt.show()"
   ]
  },
  {
   "cell_type": "code",
   "execution_count": 42,
   "metadata": {},
   "outputs": [
    {
     "name": "stdout",
     "output_type": "stream",
     "text": [
      "Downloading https://www.cs.toronto.edu/~kriz/cifar-100-python.tar.gz to ./data/cifar-100-python.tar.gz\n"
     ]
    },
    {
     "name": "stderr",
     "output_type": "stream",
     "text": [
      "100%|█████████████████████████████████████████████████| 169001437/169001437 [00:07<00:00, 22977083.81it/s]\n"
     ]
    },
    {
     "name": "stdout",
     "output_type": "stream",
     "text": [
      "Extracting ./data/cifar-100-python.tar.gz to ./data\n",
      "Files already downloaded and verified\n"
     ]
    }
   ],
   "source": [
    "transform = transforms.Compose(\n",
    "    [transforms.ToTensor(),\n",
    "     transforms.Normalize((0.5, 0.5, 0.5), (0.5, 0.5, 0.5))])\n",
    "\n",
    "batch_size = 4\n",
    "\n",
    "trainset = torchvision.datasets.CIFAR100(root='./data', train=True,\n",
    "                                        download=True, transform=transform)\n",
    "trainloader = torch.utils.data.DataLoader(trainset, batch_size=batch_size,\n",
    "                                          shuffle=True, num_workers=2)\n",
    "\n",
    "testset = torchvision.datasets.CIFAR100(root='./data', train=False,\n",
    "                                       download=True, transform=transform)\n",
    "testloader = torch.utils.data.DataLoader(testset, batch_size=batch_size,\n",
    "                                         shuffle=False, num_workers=2)\n"
   ]
  },
  {
   "cell_type": "code",
   "execution_count": 58,
   "metadata": {},
   "outputs": [],
   "source": [
    "import torch.nn as nn\n",
    "import torch.nn.functional as F\n",
    "\n",
    "\n",
    "class Net(nn.Module):\n",
    "    def __init__(self):\n",
    "        super().__init__()\n",
    "        self.conv1 = nn.Conv2d(3, 6, 5)\n",
    "        self.pool = nn.MaxPool2d(2, 2)\n",
    "        self.conv2 = nn.Conv2d(6, 16, 5)\n",
    "        self.fc1 = nn.Linear(16 * 5 * 5, 120)\n",
    "        self.fc2 = nn.Linear(120, 84)\n",
    "        self.fc3 = nn.Linear(84, 100)\n",
    "\n",
    "    def forward(self, x):\n",
    "        x = self.pool(F.relu(self.conv1(x)))\n",
    "        x = self.pool(F.relu(self.conv2(x)))\n",
    "        x = torch.flatten(x, 1) # flatten all dimensions except batch\n",
    "        x = F.relu(self.fc1(x))\n",
    "        x = F.relu(self.fc2(x))\n",
    "        x = self.fc3(x)\n",
    "        return x\n",
    "\n",
    "\n",
    "net = Net()"
   ]
  },
  {
   "cell_type": "code",
   "execution_count": 59,
   "metadata": {},
   "outputs": [],
   "source": [
    "import torch.optim as optim\n",
    "\n",
    "criterion = nn.CrossEntropyLoss()\n",
    "optimizer = optim.SGD(net.parameters(), lr=0.001, momentum=0.9)"
   ]
  },
  {
   "cell_type": "code",
   "execution_count": 60,
   "metadata": {},
   "outputs": [
    {
     "name": "stdout",
     "output_type": "stream",
     "text": [
      "[1,  2000] loss: 4.605\n",
      "[1,  4000] loss: 4.501\n",
      "[1,  6000] loss: 4.239\n",
      "[1,  8000] loss: 4.086\n",
      "[1, 10000] loss: 3.939\n",
      "[1, 12000] loss: 3.871\n",
      "[2,  2000] loss: 3.735\n",
      "[2,  4000] loss: 3.716\n",
      "[2,  6000] loss: 3.631\n",
      "[2,  8000] loss: 3.577\n",
      "[2, 10000] loss: 3.537\n",
      "[2, 12000] loss: 3.505\n",
      "[3,  2000] loss: 3.413\n",
      "[3,  4000] loss: 3.379\n",
      "[3,  6000] loss: 3.347\n",
      "[3,  8000] loss: 3.296\n",
      "[3, 10000] loss: 3.280\n",
      "[3, 12000] loss: 3.297\n",
      "[4,  2000] loss: 3.169\n",
      "[4,  4000] loss: 3.167\n",
      "[4,  6000] loss: 3.160\n",
      "[4,  8000] loss: 3.169\n",
      "[4, 10000] loss: 3.168\n",
      "[4, 12000] loss: 3.132\n",
      "[5,  2000] loss: 3.038\n",
      "[5,  4000] loss: 3.029\n",
      "[5,  6000] loss: 3.055\n",
      "[5,  8000] loss: 3.052\n",
      "[5, 10000] loss: 3.017\n",
      "[5, 12000] loss: 3.022\n",
      "[6,  2000] loss: 2.889\n",
      "[6,  4000] loss: 2.918\n",
      "[6,  6000] loss: 2.955\n",
      "[6,  8000] loss: 3.013\n",
      "[6, 10000] loss: 2.962\n",
      "[6, 12000] loss: 2.969\n",
      "[7,  2000] loss: 2.836\n",
      "[7,  4000] loss: 2.867\n",
      "[7,  6000] loss: 2.873\n",
      "[7,  8000] loss: 2.952\n",
      "[7, 10000] loss: 2.889\n",
      "[7, 12000] loss: 2.884\n",
      "[8,  2000] loss: 2.748\n",
      "[8,  4000] loss: 2.816\n",
      "[8,  6000] loss: 2.798\n",
      "[8,  8000] loss: 2.853\n",
      "[8, 10000] loss: 2.875\n",
      "[8, 12000] loss: 2.864\n",
      "[9,  2000] loss: 2.708\n",
      "[9,  4000] loss: 2.774\n",
      "[9,  6000] loss: 2.772\n",
      "[9,  8000] loss: 2.796\n",
      "[9, 10000] loss: 2.805\n",
      "[9, 12000] loss: 2.843\n",
      "[10,  2000] loss: 2.680\n",
      "[10,  4000] loss: 2.682\n",
      "[10,  6000] loss: 2.760\n",
      "[10,  8000] loss: 2.752\n",
      "[10, 10000] loss: 2.767\n",
      "[10, 12000] loss: 2.799\n",
      "[11,  2000] loss: 2.576\n"
     ]
    },
    {
     "ename": "KeyboardInterrupt",
     "evalue": "",
     "output_type": "error",
     "traceback": [
      "\u001b[0;31m---------------------------------------------------------------------------\u001b[0m",
      "\u001b[0;31mKeyboardInterrupt\u001b[0m                         Traceback (most recent call last)",
      "Cell \u001b[0;32mIn[60], line 12\u001b[0m\n\u001b[1;32m      9\u001b[0m optimizer\u001b[38;5;241m.\u001b[39mzero_grad()\n\u001b[1;32m     11\u001b[0m \u001b[38;5;66;03m# forward + backward + optimize\u001b[39;00m\n\u001b[0;32m---> 12\u001b[0m outputs \u001b[38;5;241m=\u001b[39m \u001b[43mnet\u001b[49m\u001b[43m(\u001b[49m\u001b[43minputs\u001b[49m\u001b[43m)\u001b[49m\n\u001b[1;32m     13\u001b[0m loss \u001b[38;5;241m=\u001b[39m criterion(outputs, labels)\n\u001b[1;32m     14\u001b[0m loss\u001b[38;5;241m.\u001b[39mbackward()\n",
      "File \u001b[0;32m~/anaconda3/envs/agency/lib/python3.10/site-packages/torch/nn/modules/module.py:1511\u001b[0m, in \u001b[0;36mModule._wrapped_call_impl\u001b[0;34m(self, *args, **kwargs)\u001b[0m\n\u001b[1;32m   1509\u001b[0m     \u001b[38;5;28;01mreturn\u001b[39;00m \u001b[38;5;28mself\u001b[39m\u001b[38;5;241m.\u001b[39m_compiled_call_impl(\u001b[38;5;241m*\u001b[39margs, \u001b[38;5;241m*\u001b[39m\u001b[38;5;241m*\u001b[39mkwargs)  \u001b[38;5;66;03m# type: ignore[misc]\u001b[39;00m\n\u001b[1;32m   1510\u001b[0m \u001b[38;5;28;01melse\u001b[39;00m:\n\u001b[0;32m-> 1511\u001b[0m     \u001b[38;5;28;01mreturn\u001b[39;00m \u001b[38;5;28;43mself\u001b[39;49m\u001b[38;5;241;43m.\u001b[39;49m\u001b[43m_call_impl\u001b[49m\u001b[43m(\u001b[49m\u001b[38;5;241;43m*\u001b[39;49m\u001b[43margs\u001b[49m\u001b[43m,\u001b[49m\u001b[43m \u001b[49m\u001b[38;5;241;43m*\u001b[39;49m\u001b[38;5;241;43m*\u001b[39;49m\u001b[43mkwargs\u001b[49m\u001b[43m)\u001b[49m\n",
      "File \u001b[0;32m~/anaconda3/envs/agency/lib/python3.10/site-packages/torch/nn/modules/module.py:1520\u001b[0m, in \u001b[0;36mModule._call_impl\u001b[0;34m(self, *args, **kwargs)\u001b[0m\n\u001b[1;32m   1515\u001b[0m \u001b[38;5;66;03m# If we don't have any hooks, we want to skip the rest of the logic in\u001b[39;00m\n\u001b[1;32m   1516\u001b[0m \u001b[38;5;66;03m# this function, and just call forward.\u001b[39;00m\n\u001b[1;32m   1517\u001b[0m \u001b[38;5;28;01mif\u001b[39;00m \u001b[38;5;129;01mnot\u001b[39;00m (\u001b[38;5;28mself\u001b[39m\u001b[38;5;241m.\u001b[39m_backward_hooks \u001b[38;5;129;01mor\u001b[39;00m \u001b[38;5;28mself\u001b[39m\u001b[38;5;241m.\u001b[39m_backward_pre_hooks \u001b[38;5;129;01mor\u001b[39;00m \u001b[38;5;28mself\u001b[39m\u001b[38;5;241m.\u001b[39m_forward_hooks \u001b[38;5;129;01mor\u001b[39;00m \u001b[38;5;28mself\u001b[39m\u001b[38;5;241m.\u001b[39m_forward_pre_hooks\n\u001b[1;32m   1518\u001b[0m         \u001b[38;5;129;01mor\u001b[39;00m _global_backward_pre_hooks \u001b[38;5;129;01mor\u001b[39;00m _global_backward_hooks\n\u001b[1;32m   1519\u001b[0m         \u001b[38;5;129;01mor\u001b[39;00m _global_forward_hooks \u001b[38;5;129;01mor\u001b[39;00m _global_forward_pre_hooks):\n\u001b[0;32m-> 1520\u001b[0m     \u001b[38;5;28;01mreturn\u001b[39;00m \u001b[43mforward_call\u001b[49m\u001b[43m(\u001b[49m\u001b[38;5;241;43m*\u001b[39;49m\u001b[43margs\u001b[49m\u001b[43m,\u001b[49m\u001b[43m \u001b[49m\u001b[38;5;241;43m*\u001b[39;49m\u001b[38;5;241;43m*\u001b[39;49m\u001b[43mkwargs\u001b[49m\u001b[43m)\u001b[49m\n\u001b[1;32m   1522\u001b[0m \u001b[38;5;28;01mtry\u001b[39;00m:\n\u001b[1;32m   1523\u001b[0m     result \u001b[38;5;241m=\u001b[39m \u001b[38;5;28;01mNone\u001b[39;00m\n",
      "Cell \u001b[0;32mIn[58], line 16\u001b[0m, in \u001b[0;36mNet.forward\u001b[0;34m(self, x)\u001b[0m\n\u001b[1;32m     15\u001b[0m \u001b[38;5;28;01mdef\u001b[39;00m \u001b[38;5;21mforward\u001b[39m(\u001b[38;5;28mself\u001b[39m, x):\n\u001b[0;32m---> 16\u001b[0m     x \u001b[38;5;241m=\u001b[39m \u001b[38;5;28;43mself\u001b[39;49m\u001b[38;5;241;43m.\u001b[39;49m\u001b[43mpool\u001b[49m\u001b[43m(\u001b[49m\u001b[43mF\u001b[49m\u001b[38;5;241;43m.\u001b[39;49m\u001b[43mrelu\u001b[49m\u001b[43m(\u001b[49m\u001b[38;5;28;43mself\u001b[39;49m\u001b[38;5;241;43m.\u001b[39;49m\u001b[43mconv1\u001b[49m\u001b[43m(\u001b[49m\u001b[43mx\u001b[49m\u001b[43m)\u001b[49m\u001b[43m)\u001b[49m\u001b[43m)\u001b[49m\n\u001b[1;32m     17\u001b[0m     x \u001b[38;5;241m=\u001b[39m \u001b[38;5;28mself\u001b[39m\u001b[38;5;241m.\u001b[39mpool(F\u001b[38;5;241m.\u001b[39mrelu(\u001b[38;5;28mself\u001b[39m\u001b[38;5;241m.\u001b[39mconv2(x)))\n\u001b[1;32m     18\u001b[0m     x \u001b[38;5;241m=\u001b[39m torch\u001b[38;5;241m.\u001b[39mflatten(x, \u001b[38;5;241m1\u001b[39m) \u001b[38;5;66;03m# flatten all dimensions except batch\u001b[39;00m\n",
      "File \u001b[0;32m~/anaconda3/envs/agency/lib/python3.10/site-packages/torch/nn/modules/module.py:1511\u001b[0m, in \u001b[0;36mModule._wrapped_call_impl\u001b[0;34m(self, *args, **kwargs)\u001b[0m\n\u001b[1;32m   1509\u001b[0m     \u001b[38;5;28;01mreturn\u001b[39;00m \u001b[38;5;28mself\u001b[39m\u001b[38;5;241m.\u001b[39m_compiled_call_impl(\u001b[38;5;241m*\u001b[39margs, \u001b[38;5;241m*\u001b[39m\u001b[38;5;241m*\u001b[39mkwargs)  \u001b[38;5;66;03m# type: ignore[misc]\u001b[39;00m\n\u001b[1;32m   1510\u001b[0m \u001b[38;5;28;01melse\u001b[39;00m:\n\u001b[0;32m-> 1511\u001b[0m     \u001b[38;5;28;01mreturn\u001b[39;00m \u001b[38;5;28;43mself\u001b[39;49m\u001b[38;5;241;43m.\u001b[39;49m\u001b[43m_call_impl\u001b[49m\u001b[43m(\u001b[49m\u001b[38;5;241;43m*\u001b[39;49m\u001b[43margs\u001b[49m\u001b[43m,\u001b[49m\u001b[43m \u001b[49m\u001b[38;5;241;43m*\u001b[39;49m\u001b[38;5;241;43m*\u001b[39;49m\u001b[43mkwargs\u001b[49m\u001b[43m)\u001b[49m\n",
      "File \u001b[0;32m~/anaconda3/envs/agency/lib/python3.10/site-packages/torch/nn/modules/module.py:1520\u001b[0m, in \u001b[0;36mModule._call_impl\u001b[0;34m(self, *args, **kwargs)\u001b[0m\n\u001b[1;32m   1515\u001b[0m \u001b[38;5;66;03m# If we don't have any hooks, we want to skip the rest of the logic in\u001b[39;00m\n\u001b[1;32m   1516\u001b[0m \u001b[38;5;66;03m# this function, and just call forward.\u001b[39;00m\n\u001b[1;32m   1517\u001b[0m \u001b[38;5;28;01mif\u001b[39;00m \u001b[38;5;129;01mnot\u001b[39;00m (\u001b[38;5;28mself\u001b[39m\u001b[38;5;241m.\u001b[39m_backward_hooks \u001b[38;5;129;01mor\u001b[39;00m \u001b[38;5;28mself\u001b[39m\u001b[38;5;241m.\u001b[39m_backward_pre_hooks \u001b[38;5;129;01mor\u001b[39;00m \u001b[38;5;28mself\u001b[39m\u001b[38;5;241m.\u001b[39m_forward_hooks \u001b[38;5;129;01mor\u001b[39;00m \u001b[38;5;28mself\u001b[39m\u001b[38;5;241m.\u001b[39m_forward_pre_hooks\n\u001b[1;32m   1518\u001b[0m         \u001b[38;5;129;01mor\u001b[39;00m _global_backward_pre_hooks \u001b[38;5;129;01mor\u001b[39;00m _global_backward_hooks\n\u001b[1;32m   1519\u001b[0m         \u001b[38;5;129;01mor\u001b[39;00m _global_forward_hooks \u001b[38;5;129;01mor\u001b[39;00m _global_forward_pre_hooks):\n\u001b[0;32m-> 1520\u001b[0m     \u001b[38;5;28;01mreturn\u001b[39;00m \u001b[43mforward_call\u001b[49m\u001b[43m(\u001b[49m\u001b[38;5;241;43m*\u001b[39;49m\u001b[43margs\u001b[49m\u001b[43m,\u001b[49m\u001b[43m \u001b[49m\u001b[38;5;241;43m*\u001b[39;49m\u001b[38;5;241;43m*\u001b[39;49m\u001b[43mkwargs\u001b[49m\u001b[43m)\u001b[49m\n\u001b[1;32m   1522\u001b[0m \u001b[38;5;28;01mtry\u001b[39;00m:\n\u001b[1;32m   1523\u001b[0m     result \u001b[38;5;241m=\u001b[39m \u001b[38;5;28;01mNone\u001b[39;00m\n",
      "File \u001b[0;32m~/anaconda3/envs/agency/lib/python3.10/site-packages/torch/nn/modules/pooling.py:164\u001b[0m, in \u001b[0;36mMaxPool2d.forward\u001b[0;34m(self, input)\u001b[0m\n\u001b[1;32m    163\u001b[0m \u001b[38;5;28;01mdef\u001b[39;00m \u001b[38;5;21mforward\u001b[39m(\u001b[38;5;28mself\u001b[39m, \u001b[38;5;28minput\u001b[39m: Tensor):\n\u001b[0;32m--> 164\u001b[0m     \u001b[38;5;28;01mreturn\u001b[39;00m \u001b[43mF\u001b[49m\u001b[38;5;241;43m.\u001b[39;49m\u001b[43mmax_pool2d\u001b[49m\u001b[43m(\u001b[49m\u001b[38;5;28;43minput\u001b[39;49m\u001b[43m,\u001b[49m\u001b[43m \u001b[49m\u001b[38;5;28;43mself\u001b[39;49m\u001b[38;5;241;43m.\u001b[39;49m\u001b[43mkernel_size\u001b[49m\u001b[43m,\u001b[49m\u001b[43m \u001b[49m\u001b[38;5;28;43mself\u001b[39;49m\u001b[38;5;241;43m.\u001b[39;49m\u001b[43mstride\u001b[49m\u001b[43m,\u001b[49m\n\u001b[1;32m    165\u001b[0m \u001b[43m                        \u001b[49m\u001b[38;5;28;43mself\u001b[39;49m\u001b[38;5;241;43m.\u001b[39;49m\u001b[43mpadding\u001b[49m\u001b[43m,\u001b[49m\u001b[43m \u001b[49m\u001b[38;5;28;43mself\u001b[39;49m\u001b[38;5;241;43m.\u001b[39;49m\u001b[43mdilation\u001b[49m\u001b[43m,\u001b[49m\u001b[43m \u001b[49m\u001b[43mceil_mode\u001b[49m\u001b[38;5;241;43m=\u001b[39;49m\u001b[38;5;28;43mself\u001b[39;49m\u001b[38;5;241;43m.\u001b[39;49m\u001b[43mceil_mode\u001b[49m\u001b[43m,\u001b[49m\n\u001b[1;32m    166\u001b[0m \u001b[43m                        \u001b[49m\u001b[43mreturn_indices\u001b[49m\u001b[38;5;241;43m=\u001b[39;49m\u001b[38;5;28;43mself\u001b[39;49m\u001b[38;5;241;43m.\u001b[39;49m\u001b[43mreturn_indices\u001b[49m\u001b[43m)\u001b[49m\n",
      "File \u001b[0;32m~/anaconda3/envs/agency/lib/python3.10/site-packages/torch/_jit_internal.py:499\u001b[0m, in \u001b[0;36mboolean_dispatch.<locals>.fn\u001b[0;34m(*args, **kwargs)\u001b[0m\n\u001b[1;32m    497\u001b[0m     \u001b[38;5;28;01mreturn\u001b[39;00m if_true(\u001b[38;5;241m*\u001b[39margs, \u001b[38;5;241m*\u001b[39m\u001b[38;5;241m*\u001b[39mkwargs)\n\u001b[1;32m    498\u001b[0m \u001b[38;5;28;01melse\u001b[39;00m:\n\u001b[0;32m--> 499\u001b[0m     \u001b[38;5;28;01mreturn\u001b[39;00m \u001b[43mif_false\u001b[49m\u001b[43m(\u001b[49m\u001b[38;5;241;43m*\u001b[39;49m\u001b[43margs\u001b[49m\u001b[43m,\u001b[49m\u001b[43m \u001b[49m\u001b[38;5;241;43m*\u001b[39;49m\u001b[38;5;241;43m*\u001b[39;49m\u001b[43mkwargs\u001b[49m\u001b[43m)\u001b[49m\n",
      "File \u001b[0;32m~/anaconda3/envs/agency/lib/python3.10/site-packages/torch/nn/functional.py:796\u001b[0m, in \u001b[0;36m_max_pool2d\u001b[0;34m(input, kernel_size, stride, padding, dilation, ceil_mode, return_indices)\u001b[0m\n\u001b[1;32m    794\u001b[0m \u001b[38;5;28;01mif\u001b[39;00m stride \u001b[38;5;129;01mis\u001b[39;00m \u001b[38;5;28;01mNone\u001b[39;00m:\n\u001b[1;32m    795\u001b[0m     stride \u001b[38;5;241m=\u001b[39m torch\u001b[38;5;241m.\u001b[39mjit\u001b[38;5;241m.\u001b[39mannotate(List[\u001b[38;5;28mint\u001b[39m], [])\n\u001b[0;32m--> 796\u001b[0m \u001b[38;5;28;01mreturn\u001b[39;00m \u001b[43mtorch\u001b[49m\u001b[38;5;241;43m.\u001b[39;49m\u001b[43mmax_pool2d\u001b[49m\u001b[43m(\u001b[49m\u001b[38;5;28;43minput\u001b[39;49m\u001b[43m,\u001b[49m\u001b[43m \u001b[49m\u001b[43mkernel_size\u001b[49m\u001b[43m,\u001b[49m\u001b[43m \u001b[49m\u001b[43mstride\u001b[49m\u001b[43m,\u001b[49m\u001b[43m \u001b[49m\u001b[43mpadding\u001b[49m\u001b[43m,\u001b[49m\u001b[43m \u001b[49m\u001b[43mdilation\u001b[49m\u001b[43m,\u001b[49m\u001b[43m \u001b[49m\u001b[43mceil_mode\u001b[49m\u001b[43m)\u001b[49m\n",
      "\u001b[0;31mKeyboardInterrupt\u001b[0m: "
     ]
    }
   ],
   "source": [
    "for epoch in range(10):  # loop over the dataset multiple times\n",
    "\n",
    "    running_loss = 0.0\n",
    "    for i, data in enumerate(trainloader, 0):\n",
    "        # get the inputs; data is a list of [inputs, labels]\n",
    "        inputs, labels = data\n",
    "\n",
    "        # zero the parameter gradients\n",
    "        optimizer.zero_grad()\n",
    "\n",
    "        # forward + backward + optimize\n",
    "        outputs = net(inputs)\n",
    "        loss = criterion(outputs, labels)\n",
    "        loss.backward()\n",
    "        optimizer.step()\n",
    "\n",
    "        # print statistics\n",
    "        running_loss += loss.item()\n",
    "        if i % 2000 == 1999:    # print every 2000 mini-batches\n",
    "            print(f'[{epoch + 1}, {i + 1:5d}] loss: {running_loss / 2000:.3f}')\n",
    "            running_loss = 0.0\n",
    "\n",
    "print('Finished Training')"
   ]
  },
  {
   "cell_type": "code",
   "execution_count": null,
   "metadata": {},
   "outputs": [],
   "source": [
    "cifar100_x = []\n",
    "cifar100_y = []\n",
    "\n",
    "for epoch in range(1):  # loop over the validation dataset once\n",
    "\n",
    "    running_loss = 0.0\n",
    "    for i, data in enumerate(testloader, 0):\n",
    "        # get the inputs; data is a list of [inputs, labels]\n",
    "        inputs, labels = data\n",
    "\n",
    "        # forward + backward + optimize\n",
    "        outputs = net(inputs)\n",
    "        outputs = outputs.detach().numpy()\n",
    "        labels = labels.detach().numpy()\n",
    "        cifar100_x.append(outputs)\n",
    "        cifar100_y.append(labels)\n",
    "        \n",
    "\n",
    "        if i % 1000 == 0: print(\"data point: \", i)\n",
    "\n",
    "print('Finished Collecting Calibrated Points')"
   ]
  },
  {
   "cell_type": "code",
   "execution_count": 54,
   "metadata": {},
   "outputs": [],
   "source": [
    "def softmax(x):\n",
    "    \"\"\"Compute softmax values for each sets of scores in x.\"\"\"\n",
    "    e_x = np.exp(x - np.max(x))\n",
    "    return e_x / e_x.sum(axis=0)"
   ]
  },
  {
   "cell_type": "code",
   "execution_count": 56,
   "metadata": {},
   "outputs": [
    {
     "name": "stdout",
     "output_type": "stream",
     "text": [
      "[49 71 23 ... 65 16 14]\n",
      "[nan, nan, nan, nan, nan, 0.0, 0.07142857142857142, 0.018867924528301886, 0.058091286307053944, 0.18506642235455795]\n",
      "[0, 0, 0, 0, 0, 0.0, 0.07142857142857142, 0.018867924528301886, 0.058091286307053944, 0.18506642235455795]\n"
     ]
    },
    {
     "data": {
      "image/png": "[encoded data removed]",
      "text/plain": [
       "<Figure size 640x480 with 1 Axes>"
      ]
     },
     "metadata": {},
     "output_type": "display_data"
    }
   ],
   "source": [
    "histogram_x = cifar100_x\n",
    "# need to softmax x\n",
    "histogram_x = [softmax(x) for x in histogram_x]\n",
    "predicted_confidence = [np.max(x[0]) for x in histogram_x]\n",
    "predicted_class = [np.argmax(x[0]) for x in histogram_x]\n",
    "y_gt_label = [x[0] for x in cifar100_y]\n",
    "y_gt_label = np.array(y_gt_label)\n",
    "print(y_gt_label)\n",
    "#print(\"predicted confidence: \", predicted_confidence)\n",
    "\n",
    "bins = [math.floor(item*10) for item in predicted_confidence]\n",
    "bins = np.array(bins)\n",
    "predicted_class = np.array(predicted_class)\n",
    "\n",
    "accs = []\n",
    "\n",
    "for bin in range(10):\n",
    "    idxs = np.argwhere(bins==bin)\n",
    "    # print(\"bin idxs: \", bin, idxs)\n",
    "    # index into y, y_hat to calculate per bin accuracies\n",
    "    y_preds = predicted_class[idxs]\n",
    "    y_gt = y_gt_label[idxs]\n",
    "\n",
    "    equals = y_preds == y_gt\n",
    "    acc = np.mean(equals)\n",
    "    accs.append(acc)\n",
    "\n",
    "print(accs)\n",
    "accs = [0 if math.isnan(x) else x for x in accs]\n",
    "print(accs)\n",
    "\n",
    "buckets = list(range(10))\n",
    "buckets = [b+0.5 for b in buckets]\n",
    "identity = [b*0.1 for b in buckets]\n",
    "\n",
    "fig, ax = plt.subplots()\n",
    "\n",
    "ax.bar(buckets, accs, label='Actual')\n",
    "#plt.bar(buckets, identity, color='r', alpha=0.5, label='Identity Fn')\n",
    "plt.legend()\n",
    "\n",
    "ax.set_ylabel('acc')\n",
    "ax.set_xlabel('confidence')\n",
    "ax.set_title(f'reliability diagram: Temperature Scaling for T = {t_value}')\n",
    "\n",
    "plt.show()"
   ]
  },
  {
   "cell_type": "markdown",
   "metadata": {},
   "source": [
    "Training a CNN on CIFAR100 because the CNN on CIFAR10 is already well calibrated, and we cannot see the effect of temperature scaling.\n",
    "\n",
    "Basically the CNN is not being trained well on CIFAR100. So, \n",
    "\n",
    "1.  train the CNN properly, adding plots for train and validation, here we are just using test set for validation (usually illegal!): use a resnet (https://pytorch.org/vision/main/models/resnet.html)\n",
    "3.  calculate ECE on the trained net.\n",
    "4. apply temperature scaling, noting that with torch CE, you get log softmax and nll, so no need to implement softmax in your nn\n",
    "5. calculate ECE after temperature scaling.\n",
    "\n",
    "We should not be surprised that the simple CNN on CIFAR10 is well calibrated since miscalibration is observed according to the paper (https://arxiv.org/pdf/1706.04599) in more complex nns, see diagram on first page."
   ]
  }
 ],
 "metadata": {
  "kernelspec": {
   "display_name": "Python 3",
   "language": "python",
   "name": "python3"
  },
  "language_info": {
   "codemirror_mode": {
    "name": "ipython",
    "version": 3
   },
   "file_extension": ".py",
   "mimetype": "text/x-python",
   "name": "python",
   "nbconvert_exporter": "python",
   "pygments_lexer": "ipython3",
   "version": "3.8.5"
  }
 },
 "nbformat": 4,
 "nbformat_minor": 5
}
